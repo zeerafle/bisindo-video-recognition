{
  "cells": [
    {
      "cell_type": "code",
      "source": [
        "from google.colab import drive\n",
        "drive.mount('/content/drive')"
      ],
      "metadata": {
        "id": "jrPTt6vfUBkg",
        "outputId": "2d2e6e6c-49db-48d6-9ccc-159a3fbfbc69",
        "colab": {
          "base_uri": "https://localhost:8080/"
        }
      },
      "execution_count": 1,
      "outputs": [
        {
          "output_type": "stream",
          "name": "stdout",
          "text": [
            "Mounted at /content/drive\n"
          ]
        }
      ]
    },
    {
      "cell_type": "code",
      "source": [
        "from google.colab import auth\n",
        "auth.authenticate_user()\n",
        "project_id = 'mangrove-leaves-classfication '\n",
        "!gcloud config set project {project_id}\n",
        "!gsutil ls"
      ],
      "metadata": {
        "id": "6ZTBTDgBUQW5",
        "outputId": "625dfd8b-69a5-46f8-bb57-dfdd101a83b7",
        "colab": {
          "base_uri": "https://localhost:8080/"
        }
      },
      "execution_count": 2,
      "outputs": [
        {
          "output_type": "stream",
          "name": "stdout",
          "text": [
            "Updated property [core/project].\n",
            "gs://bisindo-video-recognition/\n",
            "gs://image-data-test-mangrove/\n",
            "gs://mangrove-leaves-image-data/\n",
            "gs://mangrove-model-dumps/\n",
            "gs://sitting-posture/\n",
            "gs://t2v-sign-language/\n"
          ]
        }
      ]
    },
    {
      "cell_type": "code",
      "source": [
        "bucket_name = 'bisindo-video-recognition'\n",
        "!gsutil -m rsync -r '/content/drive/My Drive/sign language per kata/' gs://{bucket_name}/data/raw/"
      ],
      "metadata": {
        "id": "_2QV6_YkUXcw",
        "outputId": "ba9d2c7a-ce51-4027-85d5-806659f26662",
        "colab": {
          "base_uri": "https://localhost:8080/"
        }
      },
      "execution_count": null,
      "outputs": [
        {
          "output_type": "stream",
          "name": "stdout",
          "text": [
            "\n",
            "WARNING: gsutil rsync uses hashes when modification time is not available at\n",
            "both the source and destination. Your crcmod installation isn't using the\n",
            "module's C extension, so checksumming will run very slowly. If this is your\n",
            "first rsync since updating gsutil, this rsync can take significantly longer than\n",
            "usual. For help installing the extension, please see \"gsutil help crcmod\".\n",
            "\n",
            "Building synchronization state...\n",
            "Starting synchronization...\n",
            "Copying file:///content/drive/My Drive/sign language per kata/apa kabar/1.mp4 [Content-Type=video/mp4]...\n",
            "Copying file:///content/drive/My Drive/sign language per kata/apa kabar/11.mp4 [Content-Type=video/mp4]...\n",
            "Copying file:///content/drive/My Drive/sign language per kata/apa kabar/2.mp4 [Content-Type=video/mp4]...\n",
            "Copying file:///content/drive/My Drive/sign language per kata/apa kabar/12.mp4 [Content-Type=video/mp4]...\n",
            "Copying file:///content/drive/My Drive/sign language per kata/apa kabar/13.mp4 [Content-Type=video/mp4]...\n",
            "Copying file:///content/drive/My Drive/sign language per kata/apa kabar/5.mp4 [Content-Type=video/mp4]...\n",
            "Copying file:///content/drive/My Drive/sign language per kata/apa kabar/10.mp4 [Content-Type=video/mp4]...\n",
            "Copying file:///content/drive/My Drive/sign language per kata/apa kabar/3.mp4 [Content-Type=video/mp4]...\n",
            "Copying file:///content/drive/My Drive/sign language per kata/apa kabar/6.mp4 [Content-Type=video/mp4]...\n",
            "Copying file:///content/drive/My Drive/sign language per kata/apa kabar/4.mp4 [Content-Type=video/mp4]...\n",
            "Copying file:///content/drive/My Drive/sign language per kata/apa kabar/7.mp4 [Content-Type=video/mp4]...\n",
            "Copying file:///content/drive/My Drive/sign language per kata/apa kabar/8.mp4 [Content-Type=video/mp4]...\n",
            "Copying file:///content/drive/My Drive/sign language per kata/apa kabar/9.mp4 [Content-Type=video/mp4]...\n",
            "Copying file:///content/drive/My Drive/sign language per kata/apa kabar/Movie on 01-03-25 at 20.55.mov [Content-Type=video/quicktime]...\n",
            "Copying file:///content/drive/My Drive/sign language per kata/apa kabar/Movie on 01-03-25 at 22.24 #2.mov [Content-Type=video/quicktime]...\n",
            "Copying file:///content/drive/My Drive/sign language per kata/apa kabar/Movie on 01-03-25 at 22.24 #3.mov [Content-Type=video/quicktime]...\n",
            "Copying file:///content/drive/My Drive/sign language per kata/apa kabar/Movie on 01-03-25 at 22.24 #4.mov [Content-Type=video/quicktime]...\n",
            "Copying file:///content/drive/My Drive/sign language per kata/apa kabar/Movie on 01-03-25 at 22.24 #5.mov [Content-Type=video/quicktime]...\n",
            "Copying file:///content/drive/My Drive/sign language per kata/apa kabar/Movie on 01-03-25 at 22.24.mov [Content-Type=video/quicktime]...\n",
            "Copying file:///content/drive/My Drive/sign language per kata/apa kabar/Movie on 01-03-25 at 22.24 #6.mov [Content-Type=video/quicktime]...\n",
            "Copying file:///content/drive/My Drive/sign language per kata/apa kabar/Movie on 01-03-25 at 22.25 #2.mov [Content-Type=video/quicktime]...\n",
            "Copying file:///content/drive/My Drive/sign language per kata/apa kabar/Movie on 01-03-25 at 22.25 #3.mov [Content-Type=video/quicktime]...\n",
            "Copying file:///content/drive/My Drive/sign language per kata/apa kabar/Movie on 01-03-25 at 22.25 #4.mov [Content-Type=video/quicktime]...\n",
            "Copying file:///content/drive/My Drive/sign language per kata/apa kabar/Movie on 01-03-25 at 22.25 #5.mov [Content-Type=video/quicktime]...\n",
            "Copying file:///content/drive/My Drive/sign language per kata/apa kabar/Movie on 01-03-25 at 22.25.mov [Content-Type=video/quicktime]...\n",
            "Copying file:///content/drive/My Drive/sign language per kata/apa kabar/Movie on 22-01-25 at 13.20 #2.mov [Content-Type=video/quicktime]...\n",
            "Copying file:///content/drive/My Drive/sign language per kata/apa kabar/Movie on 22-01-25 at 13.21 #2.mov [Content-Type=video/quicktime]...\n",
            "Copying file:///content/drive/My Drive/sign language per kata/apa kabar/Movie on 22-01-25 at 13.21 #3.mov [Content-Type=video/quicktime]...\n",
            "Copying file:///content/drive/My Drive/sign language per kata/apa kabar/Movie on 22-01-25 at 13.21.mov [Content-Type=video/quicktime]...\n",
            "Copying file:///content/drive/My Drive/sign language per kata/apa kabar/Movie on 22-01-25 at 13.22.mov [Content-Type=video/quicktime]...\n",
            "Copying file:///content/drive/My Drive/sign language per kata/apa kabar/Movie on 22-01-25 at 13.23 #2.mov [Content-Type=video/quicktime]...\n",
            "Copying file:///content/drive/My Drive/sign language per kata/apa kabar/Movie on 22-01-25 at 13.23 #3.mov [Content-Type=video/quicktime]...\n",
            "Copying file:///content/drive/My Drive/sign language per kata/apa kabar/Movie on 22-01-25 at 13.23.mov [Content-Type=video/quicktime]...\n",
            "Copying file:///content/drive/My Drive/sign language per kata/apa kabar/lv_0_20241125103832.mp4 [Content-Type=video/mp4]...\n",
            "Copying file:///content/drive/My Drive/sign language per kata/apa kabar/lv_0_20241125103851.mp4 [Content-Type=video/mp4]...\n",
            "Copying file:///content/drive/My Drive/sign language per kata/apa kabar/lv_0_20241125103919.mp4 [Content-Type=video/mp4]...\n",
            "Copying file:///content/drive/My Drive/sign language per kata/apa kabar/lv_0_20241125103942.mp4 [Content-Type=video/mp4]...\n",
            "Copying file:///content/drive/My Drive/sign language per kata/apa kabar/lv_0_20241125103957.mp4 [Content-Type=video/mp4]...\n",
            "Copying file:///content/drive/My Drive/sign language per kata/apa kabar/lv_0_20241125104040.mp4 [Content-Type=video/mp4]...\n",
            "Copying file:///content/drive/My Drive/sign language per kata/apa kabar/lv_0_20241125104058.mp4 [Content-Type=video/mp4]...\n",
            "Copying file:///content/drive/My Drive/sign language per kata/apa kabar/lv_0_20241125104116.mp4 [Content-Type=video/mp4]...\n",
            "Copying file:///content/drive/My Drive/sign language per kata/apa kabar/lv_0_20241125104132.mp4 [Content-Type=video/mp4]...\n",
            "Copying file:///content/drive/My Drive/sign language per kata/apa kabar/lv_0_20241125104151.mp4 [Content-Type=video/mp4]...\n",
            "Copying file:///content/drive/My Drive/sign language per kata/apa kabar/lv_0_20241125104206.mp4 [Content-Type=video/mp4]...\n",
            "Copying file:///content/drive/My Drive/sign language per kata/apa kabar/lv_0_20241125104221.mp4 [Content-Type=video/mp4]...\n",
            "Copying file:///content/drive/My Drive/sign language per kata/apa kabar/lv_0_20241125104238.mp4 [Content-Type=video/mp4]...\n",
            "Copying file:///content/drive/My Drive/sign language per kata/ayo jalan-jalan/1.mp4 [Content-Type=video/mp4]...\n",
            "Copying file:///content/drive/My Drive/sign language per kata/ayo jalan-jalan/10.mp4 [Content-Type=video/mp4]...\n",
            "Copying file:///content/drive/My Drive/sign language per kata/ayo jalan-jalan/11.mp4 [Content-Type=video/mp4]...\n",
            "Copying file:///content/drive/My Drive/sign language per kata/ayo jalan-jalan/12.mp4 [Content-Type=video/mp4]...\n",
            "Copying file:///content/drive/My Drive/sign language per kata/ayo jalan-jalan/13.mp4 [Content-Type=video/mp4]...\n",
            "Copying file:///content/drive/My Drive/sign language per kata/ayo jalan-jalan/15.mp4 [Content-Type=video/mp4]...\n",
            "Copying file:///content/drive/My Drive/sign language per kata/ayo jalan-jalan/14.mp4 [Content-Type=video/mp4]...\n",
            "Copying file:///content/drive/My Drive/sign language per kata/ayo jalan-jalan/2.mp4 [Content-Type=video/mp4]...\n",
            "Copying file:///content/drive/My Drive/sign language per kata/ayo jalan-jalan/3.mp4 [Content-Type=video/mp4]...\n",
            "Copying file:///content/drive/My Drive/sign language per kata/ayo jalan-jalan/4.mp4 [Content-Type=video/mp4]...\n",
            "Copying file:///content/drive/My Drive/sign language per kata/ayo jalan-jalan/5.mp4 [Content-Type=video/mp4]...\n",
            "Copying file:///content/drive/My Drive/sign language per kata/ayo jalan-jalan/6.mp4 [Content-Type=video/mp4]...\n",
            "Copying file:///content/drive/My Drive/sign language per kata/ayo jalan-jalan/7.mp4 [Content-Type=video/mp4]...\n",
            "Copying file:///content/drive/My Drive/sign language per kata/ayo jalan-jalan/8.mp4 [Content-Type=video/mp4]...\n",
            "Copying file:///content/drive/My Drive/sign language per kata/ayo jalan-jalan/9.mp4 [Content-Type=video/mp4]...\n",
            "Copying file:///content/drive/My Drive/sign language per kata/ayo jalan-jalan/Movie on 01-03-25 at 20.55 #2.mov [Content-Type=video/quicktime]...\n",
            "Copying file:///content/drive/My Drive/sign language per kata/ayo jalan-jalan/Movie on 01-03-25 at 20.55.mov [Content-Type=video/quicktime]...\n",
            "Copying file:///content/drive/My Drive/sign language per kata/ayo jalan-jalan/Movie on 01-03-25 at 20.57 #2.mov [Content-Type=video/quicktime]...\n",
            "Copying file:///content/drive/My Drive/sign language per kata/ayo jalan-jalan/Movie on 01-03-25 at 20.57 #3.mov [Content-Type=video/quicktime]...\n",
            "Copying file:///content/drive/My Drive/sign language per kata/ayo jalan-jalan/Movie on 01-03-25 at 20.57 #4.mov [Content-Type=video/quicktime]...\n",
            "Copying file:///content/drive/My Drive/sign language per kata/ayo jalan-jalan/Movie on 01-03-25 at 20.57.mov [Content-Type=video/quicktime]...\n",
            "Copying file:///content/drive/My Drive/sign language per kata/ayo jalan-jalan/Movie on 01-03-25 at 20.58 #2.mov [Content-Type=video/quicktime]...\n",
            "Copying file:///content/drive/My Drive/sign language per kata/ayo jalan-jalan/Movie on 01-03-25 at 20.58 #3.mov [Content-Type=video/quicktime]...\n",
            "Copying file:///content/drive/My Drive/sign language per kata/ayo jalan-jalan/Movie on 01-03-25 at 20.58 #4.mov [Content-Type=video/quicktime]...\n",
            "Copying file:///content/drive/My Drive/sign language per kata/ayo jalan-jalan/Movie on 01-03-25 at 20.58 #5.mov [Content-Type=video/quicktime]...\n",
            "Copying file:///content/drive/My Drive/sign language per kata/ayo jalan-jalan/Movie on 01-03-25 at 20.58.mov [Content-Type=video/quicktime]...\n",
            "Copying file:///content/drive/My Drive/sign language per kata/ayo jalan-jalan/Movie on 01-03-25 at 20.59.mov [Content-Type=video/quicktime]...\n",
            "Copying file:///content/drive/My Drive/sign language per kata/ayo jalan-jalan/lv_0_20241125093738.mp4 [Content-Type=video/mp4]...\n",
            "Copying file:///content/drive/My Drive/sign language per kata/ayo jalan-jalan/lv_0_20241125093828.mp4 [Content-Type=video/mp4]...\n",
            "Copying file:///content/drive/My Drive/sign language per kata/ayo jalan-jalan/lv_0_20241125093939.mp4 [Content-Type=video/mp4]...\n",
            "Copying file:///content/drive/My Drive/sign language per kata/ayo jalan-jalan/lv_0_20241125094003.mp4 [Content-Type=video/mp4]...\n",
            "Copying file:///content/drive/My Drive/sign language per kata/ayo jalan-jalan/lv_0_20241125094025.mp4 [Content-Type=video/mp4]...\n",
            "Copying file:///content/drive/My Drive/sign language per kata/ayo jalan-jalan/lv_0_20241125094052.mp4 [Content-Type=video/mp4]...\n",
            "Copying file:///content/drive/My Drive/sign language per kata/ayo jalan-jalan/lv_0_20241125094117.mp4 [Content-Type=video/mp4]...\n",
            "Copying file:///content/drive/My Drive/sign language per kata/ayo jalan-jalan/lv_0_20241125094153.mp4 [Content-Type=video/mp4]...\n",
            "Copying file:///content/drive/My Drive/sign language per kata/ayo jalan-jalan/lv_0_20241125094211.mp4 [Content-Type=video/mp4]...\n",
            "Copying file:///content/drive/My Drive/sign language per kata/ayo jalan-jalan/lv_0_20241125094226.mp4 [Content-Type=video/mp4]...\n",
            "Copying file:///content/drive/My Drive/sign language per kata/ayo jalan-jalan/lv_0_20241125094250.mp4 [Content-Type=video/mp4]...\n",
            "Copying file:///content/drive/My Drive/sign language per kata/ayo jalan-jalan/lv_0_20241125094323.mp4 [Content-Type=video/mp4]...\n",
            "Copying file:///content/drive/My Drive/sign language per kata/ayo jalan-jalan/lv_0_20241125094347.mp4 [Content-Type=video/mp4]...\n",
            "Copying file:///content/drive/My Drive/sign language per kata/ayo jalan-jalan/lv_0_20241125094410.mp4 [Content-Type=video/mp4]...\n",
            "Copying file:///content/drive/My Drive/sign language per kata/ayo jalan-jalan/lv_0_20241125094425.mp4 [Content-Type=video/mp4]...\n",
            "Copying file:///content/drive/My Drive/sign language per kata/ayo jalan-jalan/lv_0_20241125094441.mp4 [Content-Type=video/mp4]...\n",
            "Copying file:///content/drive/My Drive/sign language per kata/ayo jalan-jalan/lv_0_20241125094501.mp4 [Content-Type=video/mp4]...\n",
            "Copying file:///content/drive/My Drive/sign language per kata/ayo jalan-jalan/lv_0_20241125094517.mp4 [Content-Type=video/mp4]...\n",
            "Copying file:///content/drive/My Drive/sign language per kata/ayo jalan-jalan/lv_0_20241125094535.mp4 [Content-Type=video/mp4]...\n",
            "Copying file:///content/drive/My Drive/sign language per kata/ayo jalan-jalan/lv_0_20241125094547.mp4 [Content-Type=video/mp4]...\n",
            "Copying file:///content/drive/My Drive/sign language per kata/jaga kesehatan/1.mp4 [Content-Type=video/mp4]...\n",
            "Copying file:///content/drive/My Drive/sign language per kata/jaga kesehatan/10.mp4 [Content-Type=video/mp4]...\n",
            "Copying file:///content/drive/My Drive/sign language per kata/jaga kesehatan/11.mp4 [Content-Type=video/mp4]...\n",
            "Copying file:///content/drive/My Drive/sign language per kata/jaga kesehatan/12.mp4 [Content-Type=video/mp4]...\n",
            "Copying file:///content/drive/My Drive/sign language per kata/jaga kesehatan/13.mp4 [Content-Type=video/mp4]...\n",
            "Copying file:///content/drive/My Drive/sign language per kata/jaga kesehatan/14.mp4 [Content-Type=video/mp4]...\n",
            "Copying file:///content/drive/My Drive/sign language per kata/jaga kesehatan/15.mp4 [Content-Type=video/mp4]...\n",
            "Copying file:///content/drive/My Drive/sign language per kata/jaga kesehatan/2.mp4 [Content-Type=video/mp4]...\n",
            "Copying file:///content/drive/My Drive/sign language per kata/jaga kesehatan/3.mp4 [Content-Type=video/mp4]...\n",
            "Copying file:///content/drive/My Drive/sign language per kata/jaga kesehatan/4.mp4 [Content-Type=video/mp4]...\n",
            "Copying file:///content/drive/My Drive/sign language per kata/jaga kesehatan/5.mp4 [Content-Type=video/mp4]...\n",
            "Copying file:///content/drive/My Drive/sign language per kata/jaga kesehatan/6.mp4 [Content-Type=video/mp4]...\n",
            "Copying file:///content/drive/My Drive/sign language per kata/jaga kesehatan/7.mp4 [Content-Type=video/mp4]...\n",
            "Copying file:///content/drive/My Drive/sign language per kata/jaga kesehatan/8.mp4 [Content-Type=video/mp4]...\n",
            "Copying file:///content/drive/My Drive/sign language per kata/jaga kesehatan/9.mp4 [Content-Type=video/mp4]...\n",
            "Copying file:///content/drive/My Drive/sign language per kata/jaga kesehatan/Movie on 01-03-25 at 21.44 #2.mov [Content-Type=video/quicktime]...\n",
            "Copying file:///content/drive/My Drive/sign language per kata/jaga kesehatan/Movie on 01-03-25 at 21.44.mov [Content-Type=video/quicktime]...\n",
            "Copying file:///content/drive/My Drive/sign language per kata/jaga kesehatan/Movie on 01-03-25 at 21.45 #2.mov [Content-Type=video/quicktime]...\n",
            "Copying file:///content/drive/My Drive/sign language per kata/jaga kesehatan/Movie on 01-03-25 at 21.45 #3.mov [Content-Type=video/quicktime]...\n",
            "Copying file:///content/drive/My Drive/sign language per kata/jaga kesehatan/Movie on 01-03-25 at 21.45 #4.mov [Content-Type=video/quicktime]...\n",
            "Copying file:///content/drive/My Drive/sign language per kata/jaga kesehatan/Movie on 01-03-25 at 21.45 #5.mov [Content-Type=video/quicktime]...\n",
            "Copying file:///content/drive/My Drive/sign language per kata/jaga kesehatan/Movie on 01-03-25 at 21.45 #6.mov [Content-Type=video/quicktime]...\n",
            "Copying file:///content/drive/My Drive/sign language per kata/jaga kesehatan/Movie on 01-03-25 at 21.45.mov [Content-Type=video/quicktime]...\n",
            "Copying file:///content/drive/My Drive/sign language per kata/jaga kesehatan/Movie on 01-03-25 at 21.46 #2.mov [Content-Type=video/quicktime]...\n",
            "Copying file:///content/drive/My Drive/sign language per kata/jaga kesehatan/Movie on 01-03-25 at 21.46 #3.mov [Content-Type=video/quicktime]...\n",
            "Copying file:///content/drive/My Drive/sign language per kata/jaga kesehatan/Movie on 01-03-25 at 21.46 #4.mov [Content-Type=video/quicktime]...\n",
            "Copying file:///content/drive/My Drive/sign language per kata/jaga kesehatan/Movie on 01-03-25 at 21.46 #5.mov [Content-Type=video/quicktime]...\n",
            "Copying file:///content/drive/My Drive/sign language per kata/jaga kesehatan/Movie on 01-03-25 at 21.46 #6.mov [Content-Type=video/quicktime]...\n",
            "Copying file:///content/drive/My Drive/sign language per kata/jaga kesehatan/Movie on 01-03-25 at 21.46.mov [Content-Type=video/quicktime]...\n",
            "Copying file:///content/drive/My Drive/sign language per kata/jaga kesehatan/Movie on 01-03-25 at 21.47.mov [Content-Type=video/quicktime]...\n",
            "Copying file:///content/drive/My Drive/sign language per kata/jaga kesehatan/lv_0_20241125113700.mp4 [Content-Type=video/mp4]...\n",
            "Copying file:///content/drive/My Drive/sign language per kata/jaga kesehatan/lv_0_20241125113726.mp4 [Content-Type=video/mp4]...\n",
            "Copying file:///content/drive/My Drive/sign language per kata/jaga kesehatan/lv_0_20241125113805.mp4 [Content-Type=video/mp4]...\n",
            "Copying file:///content/drive/My Drive/sign language per kata/jaga kesehatan/lv_0_20241125113820.mp4 [Content-Type=video/mp4]...\n",
            "Copying file:///content/drive/My Drive/sign language per kata/jaga kesehatan/lv_0_20241125113842.mp4 [Content-Type=video/mp4]...\n",
            "Copying file:///content/drive/My Drive/sign language per kata/jaga kesehatan/lv_0_20241125113915.mp4 [Content-Type=video/mp4]...\n",
            "Copying file:///content/drive/My Drive/sign language per kata/jaga kesehatan/lv_0_20241125113929.mp4 [Content-Type=video/mp4]...\n",
            "Copying file:///content/drive/My Drive/sign language per kata/jaga kesehatan/lv_0_20241125113943.mp4 [Content-Type=video/mp4]...\n",
            "Copying file:///content/drive/My Drive/sign language per kata/jaga kesehatan/lv_0_20241125113959.mp4 [Content-Type=video/mp4]...\n",
            "Copying file:///content/drive/My Drive/sign language per kata/jaga kesehatan/lv_0_20241125114021.mp4 [Content-Type=video/mp4]...\n",
            "Copying file:///content/drive/My Drive/sign language per kata/jaga kesehatan/lv_0_20241125114038.mp4 [Content-Type=video/mp4]...\n",
            "Copying file:///content/drive/My Drive/sign language per kata/jaga kesehatan/lv_0_20241125114106.mp4 [Content-Type=video/mp4]...\n",
            "Copying file:///content/drive/My Drive/sign language per kata/jaga kesehatan/lv_0_20241125114124.mp4 [Content-Type=video/mp4]...\n",
            "Copying file:///content/drive/My Drive/sign language per kata/jaga kesehatan/lv_0_20241125114148.mp4 [Content-Type=video/mp4]...\n",
            "Copying file:///content/drive/My Drive/sign language per kata/jaga kesehatan/lv_0_20241125114213.mp4 [Content-Type=video/mp4]...\n",
            "Copying file:///content/drive/My Drive/sign language per kata/jaga kesehatan/lv_0_20241125114234.mp4 [Content-Type=video/mp4]...\n",
            "Copying file:///content/drive/My Drive/sign language per kata/jaga kesehatan/lv_0_20241125114249.mp4 [Content-Type=video/mp4]...\n",
            "Copying file:///content/drive/My Drive/sign language per kata/kamu mau kemana/1.mp4 [Content-Type=video/mp4]...\n",
            "Copying file:///content/drive/My Drive/sign language per kata/kamu mau kemana/10.mp4 [Content-Type=video/mp4]...\n",
            "Copying file:///content/drive/My Drive/sign language per kata/kamu mau kemana/11.mp4 [Content-Type=video/mp4]...\n",
            "Copying file:///content/drive/My Drive/sign language per kata/kamu mau kemana/12.mp4 [Content-Type=video/mp4]...\n",
            "Copying file:///content/drive/My Drive/sign language per kata/kamu mau kemana/13.mp4 [Content-Type=video/mp4]...\n",
            "Copying file:///content/drive/My Drive/sign language per kata/kamu mau kemana/2.mp4 [Content-Type=video/mp4]...\n",
            "Copying file:///content/drive/My Drive/sign language per kata/kamu mau kemana/3.mp4 [Content-Type=video/mp4]...\n",
            "Copying file:///content/drive/My Drive/sign language per kata/kamu mau kemana/4.mp4 [Content-Type=video/mp4]...\n",
            "Copying file:///content/drive/My Drive/sign language per kata/kamu mau kemana/5.mp4 [Content-Type=video/mp4]...\n",
            "Copying file:///content/drive/My Drive/sign language per kata/kamu mau kemana/6.mp4 [Content-Type=video/mp4]...\n",
            "Copying file:///content/drive/My Drive/sign language per kata/kamu mau kemana/7.mp4 [Content-Type=video/mp4]...\n",
            "Copying file:///content/drive/My Drive/sign language per kata/kamu mau kemana/8.mp4 [Content-Type=video/mp4]...\n",
            "Copying file:///content/drive/My Drive/sign language per kata/kamu mau kemana/9.mp4 [Content-Type=video/mp4]...\n",
            "Copying file:///content/drive/My Drive/sign language per kata/kamu mau kemana/Movie on 01-03-25 at 21.27.mov [Content-Type=video/quicktime]...\n",
            "Copying file:///content/drive/My Drive/sign language per kata/kamu mau kemana/Movie on 01-03-25 at 21.28 #2.mov [Content-Type=video/quicktime]...\n",
            "Copying file:///content/drive/My Drive/sign language per kata/kamu mau kemana/Movie on 01-03-25 at 21.28 #3.mov [Content-Type=video/quicktime]...\n",
            "Copying file:///content/drive/My Drive/sign language per kata/kamu mau kemana/Movie on 01-03-25 at 21.28 #4.mov [Content-Type=video/quicktime]...\n",
            "Copying file:///content/drive/My Drive/sign language per kata/kamu mau kemana/Movie on 01-03-25 at 21.28 #5.mov [Content-Type=video/quicktime]...\n",
            "Copying file:///content/drive/My Drive/sign language per kata/kamu mau kemana/Movie on 01-03-25 at 21.28 #6.mov [Content-Type=video/quicktime]...\n",
            "Copying file:///content/drive/My Drive/sign language per kata/kamu mau kemana/Movie on 01-03-25 at 21.28 #7.mov [Content-Type=video/quicktime]...\n",
            "Copying file:///content/drive/My Drive/sign language per kata/kamu mau kemana/Movie on 01-03-25 at 21.28.mov [Content-Type=video/quicktime]...\n",
            "Copying file:///content/drive/My Drive/sign language per kata/kamu mau kemana/Movie on 01-03-25 at 21.29 #2.mov [Content-Type=video/quicktime]...\n",
            "Copying file:///content/drive/My Drive/sign language per kata/kamu mau kemana/Movie on 01-03-25 at 21.29 #3.mov [Content-Type=video/quicktime]...\n"
          ]
        }
      ]
    }
  ],
  "metadata": {
    "colab": {
      "name": "scratchpad",
      "provenance": []
    },
    "kernelspec": {
      "display_name": "Python 3",
      "name": "python3"
    }
  },
  "nbformat": 4,
  "nbformat_minor": 0
}