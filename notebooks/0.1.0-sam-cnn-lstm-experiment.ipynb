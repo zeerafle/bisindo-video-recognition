{
  "cells": [
    {
      "cell_type": "code",
      "execution_count": null,
      "metadata": {
        "id": "jBVk7ru8KAxB"
      },
      "outputs": [
        {
          "name": "stderr",
          "output_type": "stream",
          "text": [
            "2025-03-14 20:04:59.796897: I tensorflow/core/util/port.cc:153] oneDNN custom operations are on. You may see slightly different numerical results due to floating-point round-off errors from different computation orders. To turn them off, set the environment variable `TF_ENABLE_ONEDNN_OPTS=0`.\n",
            "2025-03-14 20:04:59.826535: E external/local_xla/xla/stream_executor/cuda/cuda_fft.cc:467] Unable to register cuFFT factory: Attempting to register factory for plugin cuFFT when one has already been registered\n",
            "WARNING: All log messages before absl::InitializeLog() is called are written to STDERR\n",
            "E0000 00:00:1741982699.847050   54087 cuda_dnn.cc:8579] Unable to register cuDNN factory: Attempting to register factory for plugin cuDNN when one has already been registered\n",
            "E0000 00:00:1741982699.853451   54087 cuda_blas.cc:1407] Unable to register cuBLAS factory: Attempting to register factory for plugin cuBLAS when one has already been registered\n",
            "W0000 00:00:1741982699.873203   54087 computation_placer.cc:177] computation placer already registered. Please check linkage and avoid linking the same target more than once.\n",
            "W0000 00:00:1741982699.873224   54087 computation_placer.cc:177] computation placer already registered. Please check linkage and avoid linking the same target more than once.\n",
            "W0000 00:00:1741982699.873227   54087 computation_placer.cc:177] computation placer already registered. Please check linkage and avoid linking the same target more than once.\n",
            "W0000 00:00:1741982699.873230   54087 computation_placer.cc:177] computation placer already registered. Please check linkage and avoid linking the same target more than once.\n",
            "2025-03-14 20:04:59.881270: I tensorflow/core/platform/cpu_feature_guard.cc:210] This TensorFlow binary is optimized to use available CPU instructions in performance-critical operations.\n",
            "To enable the following instructions: AVX2 AVX512F AVX512_VNNI FMA, in other operations, rebuild TensorFlow with the appropriate compiler flags.\n"
          ]
        },
        {
          "name": "stdout",
          "output_type": "stream",
          "text": [
            "[PhysicalDevice(name='/physical_device:GPU:0', device_type='GPU')]\n"
          ]
        }
      ],
      "source": [
        "import numpy as np\n",
        "from dvclive import Live\n",
        "from dvclive.keras import DVCLiveCallback\n",
        "import tensorflow as tf\n",
        "import pandas as pd\n",
        "import os\n",
        "\n",
        "# check if tensorflow using gpu\n",
        "print(tf.config.list_physical_devices('GPU'))"
      ]
    },
    {
      "cell_type": "code",
      "execution_count": null,
      "metadata": {
        "id": "CuQULCIL9Im6"
      },
      "outputs": [],
      "source": [
        "IMG_SIZE = 299\n",
        "BATCH_SIZE = 64\n",
        "EPOCHS = 500\n",
        "\n",
        "MAX_SEQ_LENGTH = 100\n",
        "NUM_FEATURES = 2048\n",
        "\n",
        "# get root directory\n",
        "from pathlib import Path\n",
        "ROOT_DIR = Path().resolve().parent  # Assumes notebook is in a subdirectory\n",
        "\n",
        "ORI_DATA_PATH = os.path.join(ROOT_DIR, 'data', 'raw')\n",
        "PROCESSED_DATA_PATH = os.path.join(ROOT_DIR, \"data\", \"interim\", \"processed_ds_random\")\n",
        "\n",
        "import decord\n",
        "decord.bridge.set_bridge('tensorflow')\n",
        "\n",
        "model_save_path = os.path.join(ROOT_DIR, 'models', 'seq_model.keras')  # Specify the desired save location"
      ]
    },
    {
      "cell_type": "markdown",
      "metadata": {
        "id": "sGDGTcoArlrY"
      },
      "source": [
        "## Load video"
      ]
    },
    {
      "cell_type": "code",
      "execution_count": 16,
      "metadata": {
        "colab": {
          "base_uri": "https://localhost:8080/",
          "height": 419,
          "referenced_widgets": [
            "f41401369996406a8ac5447a5ec3fda1",
            "5dd2c4ce8a5b490096400fb8833e1aed",
            "2ce8db7c93c84ecca0b64292539dd2a7",
            "96f9d82d22884e059eb505eaaf229da5",
            "89e2da2e11f845ce8ca2265366804f67",
            "57667b5b6c5d4b26adb04681c4bca827",
            "8dc4ed48020a4194bcd414d4cd41f9f6",
            "9ab311939bda4a4f993b916b327c6ea9",
            "d4cfe1d1547147db858a621ec0a7f85d",
            "26bc2066c787445492bbe6aaa14fd493",
            "4ce9d34838164c559990bd7cba4f289f",
            "77fc0d5fd23c4fe3b128fdb2cbb383cc",
            "1ad844b3f8654732a3bb444e1d3c069b",
            "b997b3f655534abab1268df49051f129",
            "109993f7fe6a469da33ed83d3ebe92ca",
            "55def8c14f2b44d2bf9d52ef6f77555f",
            "dee71d5e90164ed18ef003825c3aec04",
            "45726b40dd7d4100a980a1fbc1e66a47",
            "642c3c26161547229abd4e682a690191",
            "1cda498d8a9e48b8b82ccb985e5c5fc7",
            "502da73225a74ad9a0736da56f06b574",
            "9a7b7808d5d1435bb3b29d6398602e54",
            "2ce9b6c09b514a74bf6f090e96be9f79",
            "98865d5efcf744b9b19295a7eee2a87a",
            "97de24fe4d414a498c809bd61ae97154",
            "7cff1474cba14536a570a5a49970930d",
            "59259133eaa849948a37c1d3fc323bf8",
            "5e889ce0997c4c03b4e9b6052e83ef2e",
            "7b66e3d669614d409f64b3f4872b2939",
            "b83f8b2dbaea4ffbb45418c721c55ecf",
            "cc1c68fe21084005a7b6b8246936ba89",
            "02f24cd0382b4c7b9ede36cd2698e0d6",
            "16b82d538e614f12a05a7f20a67e6860"
          ]
        },
        "id": "5fRtkwaY9_AY",
        "outputId": "38a4cf28-810a-46be-ab85-5804a7a989cd"
      },
      "outputs": [
        {
          "data": {
            "text/plain": [
              "DatasetDict({\n",
              "    train: Dataset({\n",
              "        features: ['video', 'label'],\n",
              "        num_rows: 593\n",
              "    })\n",
              "    valid: Dataset({\n",
              "        features: ['video', 'label'],\n",
              "        num_rows: 74\n",
              "    })\n",
              "    test: Dataset({\n",
              "        features: ['video', 'label'],\n",
              "        num_rows: 75\n",
              "    })\n",
              "})"
            ]
          },
          "execution_count": 16,
          "metadata": {},
          "output_type": "execute_result"
        }
      ],
      "source": [
        "from datasets import load_dataset, DatasetDict, Video, Features\n",
        "\n",
        "# split 8:1:1\n",
        "ds = load_dataset(\"videofolder\", data_dir=ORI_DATA_PATH)\n",
        "ds_train_devtest = ds['train'].train_test_split(test_size=0.2, seed=42)\n",
        "ds_devtest = ds_train_devtest['test'].train_test_split(test_size=0.5, seed=42)\n",
        "\n",
        "ds = DatasetDict({\n",
        "    'train': ds_train_devtest['train'],\n",
        "    'valid': ds_devtest['train'],\n",
        "    'test': ds_devtest['test']\n",
        "})\n",
        "\n",
        "ds"
      ]
    },
    {
      "cell_type": "code",
      "execution_count": 17,
      "metadata": {
        "colab": {
          "base_uri": "https://localhost:8080/"
        },
        "id": "jnPmniOdIfZR",
        "outputId": "8a308bb7-e3d6-4725-e799-4931485ad825"
      },
      "outputs": [
        {
          "name": "stdout",
          "output_type": "stream",
          "text": [
            "{0: 'apa kabar', 1: 'ayo jalan-jalan', 2: 'jaga kesehatan', 3: 'kamu mau kemana', 4: 'kamu tinggal dimana', 5: 'mau pesan apa', 6: 'nama kamu siapa', 7: 'salam kenal', 8: 'sama-sama', 9: 'sampai jumpa lagi', 10: 'saya minta maaf', 11: 'sekarang jam berapa', 12: 'selamat malam', 13: 'selamat pagi', 14: 'selamat siang', 15: 'terima kasih'}\n"
          ]
        }
      ],
      "source": [
        "label_feature = ds['train'].features['label']\n",
        "label_names = label_feature.names\n",
        "label_dict = {i: name for i, name in enumerate(label_names)}\n",
        "\n",
        "print(label_dict)"
      ]
    },
    {
      "cell_type": "code",
      "execution_count": null,
      "metadata": {
        "id": "k3RXBmz5K9lK"
      },
      "outputs": [],
      "source": []
    },
    {
      "cell_type": "markdown",
      "metadata": {
        "id": "WM31RDS6ro8w"
      },
      "source": [
        "## Extract feature with CNN"
      ]
    },
    {
      "cell_type": "code",
      "execution_count": 9,
      "metadata": {
        "id": "yMJ8YnFjKZ3g"
      },
      "outputs": [],
      "source": [
        "class CenterSquareCrop(tf.keras.layers.Layer):\n",
        "    def __init__(self, **kwargs):\n",
        "        super(CenterSquareCrop, self).__init__(**kwargs)\n",
        "\n",
        "    def call(self, inputs):\n",
        "        # Get the dynamic shape of the input image\n",
        "        shape = tf.shape(inputs)\n",
        "        height = shape[1]\n",
        "        width = shape[2]\n",
        "        # Determine the side length of the largest possible central square\n",
        "        crop_size = tf.minimum(height, width)\n",
        "        # Compute offsets for centering the crop\n",
        "        offset_height = (height - crop_size) // 2\n",
        "        offset_width = (width - crop_size) // 2\n",
        "        # Crop the central square from each image in the batch\n",
        "        return tf.image.crop_to_bounding_box(inputs, offset_height, offset_width, crop_size, crop_size)"
      ]
    },
    {
      "cell_type": "code",
      "execution_count": 10,
      "metadata": {
        "colab": {
          "base_uri": "https://localhost:8080/"
        },
        "id": "gVNeZbn6QD8g",
        "outputId": "117a26ec-019b-470e-c8a1-3a1f78d8b2c5"
      },
      "outputs": [],
      "source": [
        "def build_feature_extractor(training=False):\n",
        "    feature_extractor = tf.keras.applications.InceptionV3(\n",
        "        weights=\"imagenet\",\n",
        "        include_top=False,\n",
        "        pooling='avg',\n",
        "        input_shape=(IMG_SIZE, IMG_SIZE, 3),\n",
        "    )\n",
        "    crop = CenterSquareCrop()\n",
        "    resize = tf.keras.layers.Resizing(IMG_SIZE,IMG_SIZE)\n",
        "    preprocess_input = tf.keras.applications.inception_v3.preprocess_input\n",
        "    inputs = tf.keras.Input(shape=(None, None, 3))\n",
        "    if training:\n",
        "        augmentation = tf.keras.Sequential(\n",
        "            [\n",
        "                tf.keras.layers.RandomBrightness(0.2),\n",
        "                tf.keras.layers.RandomContrast(0.2)\n",
        "            ],\n",
        "            name=\"augmentation\"\n",
        "        )\n",
        "        x = augmentation(inputs)\n",
        "    else:\n",
        "        x = inputs\n",
        "    preprocessed = preprocess_input(resize(crop(x)))\n",
        "\n",
        "    outputs = feature_extractor(preprocessed)\n",
        "    return tf.keras.Model(inputs, outputs, name=\"feature_extractor\")\n",
        "\n",
        "feature_extractor = build_feature_extractor(training=True)\n",
        "feature_extractor_predict = build_feature_extractor()"
      ]
    },
    {
      "cell_type": "code",
      "execution_count": 11,
      "metadata": {
        "colab": {
          "base_uri": "https://localhost:8080/",
          "height": 391
        },
        "id": "6FTExtRGWDLS",
        "outputId": "075e6763-e879-4cef-ac83-6d9a0b215238"
      },
      "outputs": [
        {
          "data": {
            "text/html": [
              "<pre style=\"white-space:pre;overflow-x:auto;line-height:normal;font-family:Menlo,'DejaVu Sans Mono',consolas,'Courier New',monospace\"><span style=\"font-weight: bold\">Model: \"feature_extractor\"</span>\n",
              "</pre>\n"
            ],
            "text/plain": [
              "\u001b[1mModel: \"feature_extractor\"\u001b[0m\n"
            ]
          },
          "metadata": {},
          "output_type": "display_data"
        },
        {
          "data": {
            "text/html": [
              "<pre style=\"white-space:pre;overflow-x:auto;line-height:normal;font-family:Menlo,'DejaVu Sans Mono',consolas,'Courier New',monospace\">┏━━━━━━━━━━━━━━━━━━━━━━━━━━━━━━━━━┳━━━━━━━━━━━━━━━━━━━━━━━━┳━━━━━━━━━━━━━━━┓\n",
              "┃<span style=\"font-weight: bold\"> Layer (type)                    </span>┃<span style=\"font-weight: bold\"> Output Shape           </span>┃<span style=\"font-weight: bold\">       Param # </span>┃\n",
              "┡━━━━━━━━━━━━━━━━━━━━━━━━━━━━━━━━━╇━━━━━━━━━━━━━━━━━━━━━━━━╇━━━━━━━━━━━━━━━┩\n",
              "│ input_layer_1 (<span style=\"color: #0087ff; text-decoration-color: #0087ff\">InputLayer</span>)      │ (<span style=\"color: #00d7ff; text-decoration-color: #00d7ff\">None</span>, <span style=\"color: #00d7ff; text-decoration-color: #00d7ff\">None</span>, <span style=\"color: #00d7ff; text-decoration-color: #00d7ff\">None</span>, <span style=\"color: #00af00; text-decoration-color: #00af00\">3</span>)  │             <span style=\"color: #00af00; text-decoration-color: #00af00\">0</span> │\n",
              "├─────────────────────────────────┼────────────────────────┼───────────────┤\n",
              "│ augmentation (<span style=\"color: #0087ff; text-decoration-color: #0087ff\">Sequential</span>)       │ (<span style=\"color: #00d7ff; text-decoration-color: #00d7ff\">None</span>, <span style=\"color: #00d7ff; text-decoration-color: #00d7ff\">None</span>, <span style=\"color: #00d7ff; text-decoration-color: #00d7ff\">None</span>, <span style=\"color: #00af00; text-decoration-color: #00af00\">3</span>)  │             <span style=\"color: #00af00; text-decoration-color: #00af00\">0</span> │\n",
              "├─────────────────────────────────┼────────────────────────┼───────────────┤\n",
              "│ center_square_crop              │ (<span style=\"color: #00d7ff; text-decoration-color: #00d7ff\">None</span>, <span style=\"color: #00d7ff; text-decoration-color: #00d7ff\">None</span>, <span style=\"color: #00d7ff; text-decoration-color: #00d7ff\">None</span>, <span style=\"color: #00af00; text-decoration-color: #00af00\">3</span>)  │             <span style=\"color: #00af00; text-decoration-color: #00af00\">0</span> │\n",
              "│ (<span style=\"color: #0087ff; text-decoration-color: #0087ff\">CenterSquareCrop</span>)              │                        │               │\n",
              "├─────────────────────────────────┼────────────────────────┼───────────────┤\n",
              "│ resizing (<span style=\"color: #0087ff; text-decoration-color: #0087ff\">Resizing</span>)             │ (<span style=\"color: #00d7ff; text-decoration-color: #00d7ff\">None</span>, <span style=\"color: #00af00; text-decoration-color: #00af00\">299</span>, <span style=\"color: #00af00; text-decoration-color: #00af00\">299</span>, <span style=\"color: #00af00; text-decoration-color: #00af00\">3</span>)    │             <span style=\"color: #00af00; text-decoration-color: #00af00\">0</span> │\n",
              "├─────────────────────────────────┼────────────────────────┼───────────────┤\n",
              "│ true_divide (<span style=\"color: #0087ff; text-decoration-color: #0087ff\">TrueDivide</span>)        │ (<span style=\"color: #00d7ff; text-decoration-color: #00d7ff\">None</span>, <span style=\"color: #00af00; text-decoration-color: #00af00\">299</span>, <span style=\"color: #00af00; text-decoration-color: #00af00\">299</span>, <span style=\"color: #00af00; text-decoration-color: #00af00\">3</span>)    │             <span style=\"color: #00af00; text-decoration-color: #00af00\">0</span> │\n",
              "├─────────────────────────────────┼────────────────────────┼───────────────┤\n",
              "│ subtract (<span style=\"color: #0087ff; text-decoration-color: #0087ff\">Subtract</span>)             │ (<span style=\"color: #00d7ff; text-decoration-color: #00d7ff\">None</span>, <span style=\"color: #00af00; text-decoration-color: #00af00\">299</span>, <span style=\"color: #00af00; text-decoration-color: #00af00\">299</span>, <span style=\"color: #00af00; text-decoration-color: #00af00\">3</span>)    │             <span style=\"color: #00af00; text-decoration-color: #00af00\">0</span> │\n",
              "├─────────────────────────────────┼────────────────────────┼───────────────┤\n",
              "│ inception_v3 (<span style=\"color: #0087ff; text-decoration-color: #0087ff\">Functional</span>)       │ (<span style=\"color: #00d7ff; text-decoration-color: #00d7ff\">None</span>, <span style=\"color: #00af00; text-decoration-color: #00af00\">2048</span>)           │    <span style=\"color: #00af00; text-decoration-color: #00af00\">21,802,784</span> │\n",
              "└─────────────────────────────────┴────────────────────────┴───────────────┘\n",
              "</pre>\n"
            ],
            "text/plain": [
              "┏━━━━━━━━━━━━━━━━━━━━━━━━━━━━━━━━━┳━━━━━━━━━━━━━━━━━━━━━━━━┳━━━━━━━━━━━━━━━┓\n",
              "┃\u001b[1m \u001b[0m\u001b[1mLayer (type)                   \u001b[0m\u001b[1m \u001b[0m┃\u001b[1m \u001b[0m\u001b[1mOutput Shape          \u001b[0m\u001b[1m \u001b[0m┃\u001b[1m \u001b[0m\u001b[1m      Param #\u001b[0m\u001b[1m \u001b[0m┃\n",
              "┡━━━━━━━━━━━━━━━━━━━━━━━━━━━━━━━━━╇━━━━━━━━━━━━━━━━━━━━━━━━╇━━━━━━━━━━━━━━━┩\n",
              "│ input_layer_1 (\u001b[38;5;33mInputLayer\u001b[0m)      │ (\u001b[38;5;45mNone\u001b[0m, \u001b[38;5;45mNone\u001b[0m, \u001b[38;5;45mNone\u001b[0m, \u001b[38;5;34m3\u001b[0m)  │             \u001b[38;5;34m0\u001b[0m │\n",
              "├─────────────────────────────────┼────────────────────────┼───────────────┤\n",
              "│ augmentation (\u001b[38;5;33mSequential\u001b[0m)       │ (\u001b[38;5;45mNone\u001b[0m, \u001b[38;5;45mNone\u001b[0m, \u001b[38;5;45mNone\u001b[0m, \u001b[38;5;34m3\u001b[0m)  │             \u001b[38;5;34m0\u001b[0m │\n",
              "├─────────────────────────────────┼────────────────────────┼───────────────┤\n",
              "│ center_square_crop              │ (\u001b[38;5;45mNone\u001b[0m, \u001b[38;5;45mNone\u001b[0m, \u001b[38;5;45mNone\u001b[0m, \u001b[38;5;34m3\u001b[0m)  │             \u001b[38;5;34m0\u001b[0m │\n",
              "│ (\u001b[38;5;33mCenterSquareCrop\u001b[0m)              │                        │               │\n",
              "├─────────────────────────────────┼────────────────────────┼───────────────┤\n",
              "│ resizing (\u001b[38;5;33mResizing\u001b[0m)             │ (\u001b[38;5;45mNone\u001b[0m, \u001b[38;5;34m299\u001b[0m, \u001b[38;5;34m299\u001b[0m, \u001b[38;5;34m3\u001b[0m)    │             \u001b[38;5;34m0\u001b[0m │\n",
              "├─────────────────────────────────┼────────────────────────┼───────────────┤\n",
              "│ true_divide (\u001b[38;5;33mTrueDivide\u001b[0m)        │ (\u001b[38;5;45mNone\u001b[0m, \u001b[38;5;34m299\u001b[0m, \u001b[38;5;34m299\u001b[0m, \u001b[38;5;34m3\u001b[0m)    │             \u001b[38;5;34m0\u001b[0m │\n",
              "├─────────────────────────────────┼────────────────────────┼───────────────┤\n",
              "│ subtract (\u001b[38;5;33mSubtract\u001b[0m)             │ (\u001b[38;5;45mNone\u001b[0m, \u001b[38;5;34m299\u001b[0m, \u001b[38;5;34m299\u001b[0m, \u001b[38;5;34m3\u001b[0m)    │             \u001b[38;5;34m0\u001b[0m │\n",
              "├─────────────────────────────────┼────────────────────────┼───────────────┤\n",
              "│ inception_v3 (\u001b[38;5;33mFunctional\u001b[0m)       │ (\u001b[38;5;45mNone\u001b[0m, \u001b[38;5;34m2048\u001b[0m)           │    \u001b[38;5;34m21,802,784\u001b[0m │\n",
              "└─────────────────────────────────┴────────────────────────┴───────────────┘\n"
            ]
          },
          "metadata": {},
          "output_type": "display_data"
        },
        {
          "data": {
            "text/html": [
              "<pre style=\"white-space:pre;overflow-x:auto;line-height:normal;font-family:Menlo,'DejaVu Sans Mono',consolas,'Courier New',monospace\"><span style=\"font-weight: bold\"> Total params: </span><span style=\"color: #00af00; text-decoration-color: #00af00\">21,802,784</span> (83.17 MB)\n",
              "</pre>\n"
            ],
            "text/plain": [
              "\u001b[1m Total params: \u001b[0m\u001b[38;5;34m21,802,784\u001b[0m (83.17 MB)\n"
            ]
          },
          "metadata": {},
          "output_type": "display_data"
        },
        {
          "data": {
            "text/html": [
              "<pre style=\"white-space:pre;overflow-x:auto;line-height:normal;font-family:Menlo,'DejaVu Sans Mono',consolas,'Courier New',monospace\"><span style=\"font-weight: bold\"> Trainable params: </span><span style=\"color: #00af00; text-decoration-color: #00af00\">21,768,352</span> (83.04 MB)\n",
              "</pre>\n"
            ],
            "text/plain": [
              "\u001b[1m Trainable params: \u001b[0m\u001b[38;5;34m21,768,352\u001b[0m (83.04 MB)\n"
            ]
          },
          "metadata": {},
          "output_type": "display_data"
        },
        {
          "data": {
            "text/html": [
              "<pre style=\"white-space:pre;overflow-x:auto;line-height:normal;font-family:Menlo,'DejaVu Sans Mono',consolas,'Courier New',monospace\"><span style=\"font-weight: bold\"> Non-trainable params: </span><span style=\"color: #00af00; text-decoration-color: #00af00\">34,432</span> (134.50 KB)\n",
              "</pre>\n"
            ],
            "text/plain": [
              "\u001b[1m Non-trainable params: \u001b[0m\u001b[38;5;34m34,432\u001b[0m (134.50 KB)\n"
            ]
          },
          "metadata": {},
          "output_type": "display_data"
        }
      ],
      "source": [
        "feature_extractor.summary()"
      ]
    },
    {
      "cell_type": "code",
      "execution_count": 12,
      "metadata": {
        "colab": {
          "base_uri": "https://localhost:8080/",
          "height": 357
        },
        "id": "G51KsB_ROqI9",
        "outputId": "4228e3d8-375d-470c-dc82-a77ee6f491e4"
      },
      "outputs": [
        {
          "data": {
            "text/html": [
              "<pre style=\"white-space:pre;overflow-x:auto;line-height:normal;font-family:Menlo,'DejaVu Sans Mono',consolas,'Courier New',monospace\"><span style=\"font-weight: bold\">Model: \"feature_extractor\"</span>\n",
              "</pre>\n"
            ],
            "text/plain": [
              "\u001b[1mModel: \"feature_extractor\"\u001b[0m\n"
            ]
          },
          "metadata": {},
          "output_type": "display_data"
        },
        {
          "data": {
            "text/html": [
              "<pre style=\"white-space:pre;overflow-x:auto;line-height:normal;font-family:Menlo,'DejaVu Sans Mono',consolas,'Courier New',monospace\">┏━━━━━━━━━━━━━━━━━━━━━━━━━━━━━━━━━┳━━━━━━━━━━━━━━━━━━━━━━━━┳━━━━━━━━━━━━━━━┓\n",
              "┃<span style=\"font-weight: bold\"> Layer (type)                    </span>┃<span style=\"font-weight: bold\"> Output Shape           </span>┃<span style=\"font-weight: bold\">       Param # </span>┃\n",
              "┡━━━━━━━━━━━━━━━━━━━━━━━━━━━━━━━━━╇━━━━━━━━━━━━━━━━━━━━━━━━╇━━━━━━━━━━━━━━━┩\n",
              "│ input_layer_4 (<span style=\"color: #0087ff; text-decoration-color: #0087ff\">InputLayer</span>)      │ (<span style=\"color: #00d7ff; text-decoration-color: #00d7ff\">None</span>, <span style=\"color: #00d7ff; text-decoration-color: #00d7ff\">None</span>, <span style=\"color: #00d7ff; text-decoration-color: #00d7ff\">None</span>, <span style=\"color: #00af00; text-decoration-color: #00af00\">3</span>)  │             <span style=\"color: #00af00; text-decoration-color: #00af00\">0</span> │\n",
              "├─────────────────────────────────┼────────────────────────┼───────────────┤\n",
              "│ center_square_crop_1            │ (<span style=\"color: #00d7ff; text-decoration-color: #00d7ff\">None</span>, <span style=\"color: #00d7ff; text-decoration-color: #00d7ff\">None</span>, <span style=\"color: #00d7ff; text-decoration-color: #00d7ff\">None</span>, <span style=\"color: #00af00; text-decoration-color: #00af00\">3</span>)  │             <span style=\"color: #00af00; text-decoration-color: #00af00\">0</span> │\n",
              "│ (<span style=\"color: #0087ff; text-decoration-color: #0087ff\">CenterSquareCrop</span>)              │                        │               │\n",
              "├─────────────────────────────────┼────────────────────────┼───────────────┤\n",
              "│ resizing_1 (<span style=\"color: #0087ff; text-decoration-color: #0087ff\">Resizing</span>)           │ (<span style=\"color: #00d7ff; text-decoration-color: #00d7ff\">None</span>, <span style=\"color: #00af00; text-decoration-color: #00af00\">299</span>, <span style=\"color: #00af00; text-decoration-color: #00af00\">299</span>, <span style=\"color: #00af00; text-decoration-color: #00af00\">3</span>)    │             <span style=\"color: #00af00; text-decoration-color: #00af00\">0</span> │\n",
              "├─────────────────────────────────┼────────────────────────┼───────────────┤\n",
              "│ true_divide_1 (<span style=\"color: #0087ff; text-decoration-color: #0087ff\">TrueDivide</span>)      │ (<span style=\"color: #00d7ff; text-decoration-color: #00d7ff\">None</span>, <span style=\"color: #00af00; text-decoration-color: #00af00\">299</span>, <span style=\"color: #00af00; text-decoration-color: #00af00\">299</span>, <span style=\"color: #00af00; text-decoration-color: #00af00\">3</span>)    │             <span style=\"color: #00af00; text-decoration-color: #00af00\">0</span> │\n",
              "├─────────────────────────────────┼────────────────────────┼───────────────┤\n",
              "│ subtract_1 (<span style=\"color: #0087ff; text-decoration-color: #0087ff\">Subtract</span>)           │ (<span style=\"color: #00d7ff; text-decoration-color: #00d7ff\">None</span>, <span style=\"color: #00af00; text-decoration-color: #00af00\">299</span>, <span style=\"color: #00af00; text-decoration-color: #00af00\">299</span>, <span style=\"color: #00af00; text-decoration-color: #00af00\">3</span>)    │             <span style=\"color: #00af00; text-decoration-color: #00af00\">0</span> │\n",
              "├─────────────────────────────────┼────────────────────────┼───────────────┤\n",
              "│ inception_v3 (<span style=\"color: #0087ff; text-decoration-color: #0087ff\">Functional</span>)       │ (<span style=\"color: #00d7ff; text-decoration-color: #00d7ff\">None</span>, <span style=\"color: #00af00; text-decoration-color: #00af00\">2048</span>)           │    <span style=\"color: #00af00; text-decoration-color: #00af00\">21,802,784</span> │\n",
              "└─────────────────────────────────┴────────────────────────┴───────────────┘\n",
              "</pre>\n"
            ],
            "text/plain": [
              "┏━━━━━━━━━━━━━━━━━━━━━━━━━━━━━━━━━┳━━━━━━━━━━━━━━━━━━━━━━━━┳━━━━━━━━━━━━━━━┓\n",
              "┃\u001b[1m \u001b[0m\u001b[1mLayer (type)                   \u001b[0m\u001b[1m \u001b[0m┃\u001b[1m \u001b[0m\u001b[1mOutput Shape          \u001b[0m\u001b[1m \u001b[0m┃\u001b[1m \u001b[0m\u001b[1m      Param #\u001b[0m\u001b[1m \u001b[0m┃\n",
              "┡━━━━━━━━━━━━━━━━━━━━━━━━━━━━━━━━━╇━━━━━━━━━━━━━━━━━━━━━━━━╇━━━━━━━━━━━━━━━┩\n",
              "│ input_layer_4 (\u001b[38;5;33mInputLayer\u001b[0m)      │ (\u001b[38;5;45mNone\u001b[0m, \u001b[38;5;45mNone\u001b[0m, \u001b[38;5;45mNone\u001b[0m, \u001b[38;5;34m3\u001b[0m)  │             \u001b[38;5;34m0\u001b[0m │\n",
              "├─────────────────────────────────┼────────────────────────┼───────────────┤\n",
              "│ center_square_crop_1            │ (\u001b[38;5;45mNone\u001b[0m, \u001b[38;5;45mNone\u001b[0m, \u001b[38;5;45mNone\u001b[0m, \u001b[38;5;34m3\u001b[0m)  │             \u001b[38;5;34m0\u001b[0m │\n",
              "│ (\u001b[38;5;33mCenterSquareCrop\u001b[0m)              │                        │               │\n",
              "├─────────────────────────────────┼────────────────────────┼───────────────┤\n",
              "│ resizing_1 (\u001b[38;5;33mResizing\u001b[0m)           │ (\u001b[38;5;45mNone\u001b[0m, \u001b[38;5;34m299\u001b[0m, \u001b[38;5;34m299\u001b[0m, \u001b[38;5;34m3\u001b[0m)    │             \u001b[38;5;34m0\u001b[0m │\n",
              "├─────────────────────────────────┼────────────────────────┼───────────────┤\n",
              "│ true_divide_1 (\u001b[38;5;33mTrueDivide\u001b[0m)      │ (\u001b[38;5;45mNone\u001b[0m, \u001b[38;5;34m299\u001b[0m, \u001b[38;5;34m299\u001b[0m, \u001b[38;5;34m3\u001b[0m)    │             \u001b[38;5;34m0\u001b[0m │\n",
              "├─────────────────────────────────┼────────────────────────┼───────────────┤\n",
              "│ subtract_1 (\u001b[38;5;33mSubtract\u001b[0m)           │ (\u001b[38;5;45mNone\u001b[0m, \u001b[38;5;34m299\u001b[0m, \u001b[38;5;34m299\u001b[0m, \u001b[38;5;34m3\u001b[0m)    │             \u001b[38;5;34m0\u001b[0m │\n",
              "├─────────────────────────────────┼────────────────────────┼───────────────┤\n",
              "│ inception_v3 (\u001b[38;5;33mFunctional\u001b[0m)       │ (\u001b[38;5;45mNone\u001b[0m, \u001b[38;5;34m2048\u001b[0m)           │    \u001b[38;5;34m21,802,784\u001b[0m │\n",
              "└─────────────────────────────────┴────────────────────────┴───────────────┘\n"
            ]
          },
          "metadata": {},
          "output_type": "display_data"
        },
        {
          "data": {
            "text/html": [
              "<pre style=\"white-space:pre;overflow-x:auto;line-height:normal;font-family:Menlo,'DejaVu Sans Mono',consolas,'Courier New',monospace\"><span style=\"font-weight: bold\"> Total params: </span><span style=\"color: #00af00; text-decoration-color: #00af00\">21,802,784</span> (83.17 MB)\n",
              "</pre>\n"
            ],
            "text/plain": [
              "\u001b[1m Total params: \u001b[0m\u001b[38;5;34m21,802,784\u001b[0m (83.17 MB)\n"
            ]
          },
          "metadata": {},
          "output_type": "display_data"
        },
        {
          "data": {
            "text/html": [
              "<pre style=\"white-space:pre;overflow-x:auto;line-height:normal;font-family:Menlo,'DejaVu Sans Mono',consolas,'Courier New',monospace\"><span style=\"font-weight: bold\"> Trainable params: </span><span style=\"color: #00af00; text-decoration-color: #00af00\">21,768,352</span> (83.04 MB)\n",
              "</pre>\n"
            ],
            "text/plain": [
              "\u001b[1m Trainable params: \u001b[0m\u001b[38;5;34m21,768,352\u001b[0m (83.04 MB)\n"
            ]
          },
          "metadata": {},
          "output_type": "display_data"
        },
        {
          "data": {
            "text/html": [
              "<pre style=\"white-space:pre;overflow-x:auto;line-height:normal;font-family:Menlo,'DejaVu Sans Mono',consolas,'Courier New',monospace\"><span style=\"font-weight: bold\"> Non-trainable params: </span><span style=\"color: #00af00; text-decoration-color: #00af00\">34,432</span> (134.50 KB)\n",
              "</pre>\n"
            ],
            "text/plain": [
              "\u001b[1m Non-trainable params: \u001b[0m\u001b[38;5;34m34,432\u001b[0m (134.50 KB)\n"
            ]
          },
          "metadata": {},
          "output_type": "display_data"
        }
      ],
      "source": [
        "feature_extractor_predict.summary()"
      ]
    },
    {
      "cell_type": "code",
      "execution_count": 18,
      "metadata": {
        "id": "U8WOFXyH1T8-"
      },
      "outputs": [],
      "source": [
        "tf.keras.backend.clear_session()"
      ]
    },
    {
      "cell_type": "markdown",
      "metadata": {
        "id": "ZArUfVVd1rhA"
      },
      "source": [
        "### Feature extraction frame by frame"
      ]
    },
    {
      "cell_type": "code",
      "execution_count": null,
      "metadata": {},
      "outputs": [
        {
          "name": "stderr",
          "output_type": "stream",
          "text": [
            "Map: 100%|██████████| 593/593 [11:52<00:00,  1.20s/ examples]\n",
            "Map: 100%|██████████| 74/74 [01:32<00:00,  1.25s/ examples]\n",
            "Map: 100%|██████████| 75/75 [01:31<00:00,  1.21s/ examples]\n",
            "Saving the dataset (1/1 shards): 100%|██████████| 75/75 [00:00<00:00, 1111.09 examples/s]\n"
          ]
        }
      ],
      "source": [
        "# Define a function to extract features from videos\n",
        "def extract_features(example, split):\n",
        "    frames = example[\"video\"][:]\n",
        "\n",
        "    # Extract features using your feature extractor\n",
        "    video_length = frames.shape[0]\n",
        "\n",
        "    # Trim or pad frames to MAX_SEQ_LENGTH\n",
        "    if video_length >= MAX_SEQ_LENGTH:\n",
        "        # truncate if too long\n",
        "        frames = frames[:MAX_SEQ_LENGTH]\n",
        "        mask = tf.ones(MAX_SEQ_LENGTH, dtype=tf.bool)\n",
        "    else:\n",
        "        # create mask and pad if too short\n",
        "        mask = tf.zeros(MAX_SEQ_LENGTH, dtype=tf.bool)\n",
        "        mask = tf.tensor_scatter_nd_update(\n",
        "            mask,\n",
        "            tf.reshape(tf.range(video_length), [-1, 1]),\n",
        "            tf.ones(video_length, dtype=tf.bool)\n",
        "        )\n",
        "        # Pad with zeros\n",
        "        padding = tf.zeros((MAX_SEQ_LENGTH - video_length, *frames.shape[1:]), dtype=frames.dtype)\n",
        "        frames = tf.concat([frames, padding], axis=0)\n",
        "\n",
        "    # Batch process frames using feature_extractor\n",
        "    if split in ['test', 'valid']:\n",
        "        batch_features = feature_extractor_predict.predict(frames, verbose=0)\n",
        "    else:\n",
        "        batch_features = feature_extractor.predict(frames, verbose=0)\n",
        "\n",
        "    # Return as a dictionary\n",
        "    return {\n",
        "        \"features\": batch_features,\n",
        "        \"mask\": mask,\n",
        "        # \"video_path\": video_path,\n",
        "        \"frame_count\": len(frames),\n",
        "        # \"file_name\": os.path.basename(video_path)\n",
        "    }\n",
        "\n",
        "# Process the datasets with batching for efficiency\n",
        "processed_ds = {}\n",
        "for split in ds.keys():\n",
        "    processed_ds[split] = ds[split].map(\n",
        "        extract_features,\n",
        "        split,\n",
        "        remove_columns=[\"video\"],  # Remove original video data to save space\n",
        "        batched=False,  # Process one example at a time\n",
        "        # num_proc=4,     # Parallel processing\n",
        "    )\n",
        "\n",
        "    # Save the processed dataset\n",
        "    processed_ds[split].save_to_disk(os.path.join(PROCESSED_DATA_PATH, split))"
      ]
    },
    {
      "cell_type": "code",
      "execution_count": null,
      "metadata": {
        "colab": {
          "base_uri": "https://localhost:8080/",
          "height": 216
        },
        "id": "heP1a3dtO6De",
        "outputId": "f1fbd885-6d4b-412f-ad60-a1b9495a07be"
      },
      "outputs": [
        {
          "name": "stderr",
          "output_type": "stream",
          "text": [
            "WARNING: All log messages before absl::InitializeLog() is called are written to STDERR\n",
            "I0000 00:00:1741792648.932406   15421 service.cc:152] XLA service 0x7f8e54003d20 initialized for platform CUDA (this does not guarantee that XLA will be used). Devices:\n",
            "I0000 00:00:1741792648.933017   15421 service.cc:160]   StreamExecutor device (0): Tesla T4, Compute Capability 7.5\n",
            "2025-03-12 15:17:29.050632: W tensorflow/compiler/tf2xla/kernels/assert_op.cc:39] Ignoring Assert operator feature_extractor_1/center_square_crop_1/crop_to_bounding_box/Assert/Assert\n",
            "2025-03-12 15:17:29.050966: W tensorflow/compiler/tf2xla/kernels/assert_op.cc:39] Ignoring Assert operator feature_extractor_1/center_square_crop_1/crop_to_bounding_box/Assert_1/Assert\n",
            "2025-03-12 15:17:29.051154: W tensorflow/compiler/tf2xla/kernels/assert_op.cc:39] Ignoring Assert operator feature_extractor_1/center_square_crop_1/crop_to_bounding_box/Assert_2/Assert\n",
            "2025-03-12 15:17:29.051351: W tensorflow/compiler/tf2xla/kernels/assert_op.cc:39] Ignoring Assert operator feature_extractor_1/center_square_crop_1/crop_to_bounding_box/Assert_3/Assert\n",
            "2025-03-12 15:17:29.051548: W tensorflow/compiler/tf2xla/kernels/assert_op.cc:39] Ignoring Assert operator feature_extractor_1/center_square_crop_1/crop_to_bounding_box/Assert_4/Assert\n",
            "2025-03-12 15:17:29.051758: W tensorflow/compiler/tf2xla/kernels/assert_op.cc:39] Ignoring Assert operator feature_extractor_1/center_square_crop_1/crop_to_bounding_box/Assert_5/Assert\n",
            "2025-03-12 15:17:29.111789: I tensorflow/compiler/mlir/tensorflow/utils/dump_mlir_util.cc:269] disabling MLIR crash reproducer, set env var `MLIR_CRASH_REPRODUCER_DIRECTORY` to enable.\n",
            "I0000 00:00:1741792650.404718   15421 cuda_dnn.cc:529] Loaded cuDNN version 90300\n",
            "I0000 00:00:1741792659.754283   15421 device_compiler.h:188] Compiled cluster using XLA!  This line is logged at most once for the lifetime of the process.\n",
            "2025-03-12 15:17:42.368619: W tensorflow/compiler/tf2xla/kernels/assert_op.cc:39] Ignoring Assert operator feature_extractor_1/center_square_crop_1/crop_to_bounding_box/Assert/Assert\n",
            "2025-03-12 15:17:42.369308: W tensorflow/compiler/tf2xla/kernels/assert_op.cc:39] Ignoring Assert operator feature_extractor_1/center_square_crop_1/crop_to_bounding_box/Assert_1/Assert\n",
            "2025-03-12 15:17:42.369569: W tensorflow/compiler/tf2xla/kernels/assert_op.cc:39] Ignoring Assert operator feature_extractor_1/center_square_crop_1/crop_to_bounding_box/Assert_2/Assert\n",
            "2025-03-12 15:17:42.369816: W tensorflow/compiler/tf2xla/kernels/assert_op.cc:39] Ignoring Assert operator feature_extractor_1/center_square_crop_1/crop_to_bounding_box/Assert_3/Assert\n",
            "2025-03-12 15:17:42.370055: W tensorflow/compiler/tf2xla/kernels/assert_op.cc:39] Ignoring Assert operator feature_extractor_1/center_square_crop_1/crop_to_bounding_box/Assert_4/Assert\n",
            "2025-03-12 15:17:42.370341: W tensorflow/compiler/tf2xla/kernels/assert_op.cc:39] Ignoring Assert operator feature_extractor_1/center_square_crop_1/crop_to_bounding_box/Assert_5/Assert\n",
            "2025-03-12 15:17:52.858063: W tensorflow/compiler/tf2xla/kernels/assert_op.cc:39] Ignoring Assert operator feature_extractor_1/center_square_crop_1/crop_to_bounding_box/assert_positive/assert_less/Assert/Assert\n",
            "2025-03-12 15:17:52.859714: W tensorflow/compiler/tf2xla/kernels/assert_op.cc:39] Ignoring Assert operator feature_extractor_1/center_square_crop_1/crop_to_bounding_box/assert_greater_equal/Assert/Assert\n",
            "2025-03-12 15:17:52.860093: W tensorflow/compiler/tf2xla/kernels/assert_op.cc:39] Ignoring Assert operator feature_extractor_1/center_square_crop_1/crop_to_bounding_box/Assert/Assert\n",
            "2025-03-12 15:17:52.860285: W tensorflow/compiler/tf2xla/kernels/assert_op.cc:39] Ignoring Assert operator feature_extractor_1/center_square_crop_1/crop_to_bounding_box/Assert_1/Assert\n",
            "2025-03-12 15:17:52.860477: W tensorflow/compiler/tf2xla/kernels/assert_op.cc:39] Ignoring Assert operator feature_extractor_1/center_square_crop_1/crop_to_bounding_box/Assert_2/Assert\n",
            "2025-03-12 15:17:52.860715: W tensorflow/compiler/tf2xla/kernels/assert_op.cc:39] Ignoring Assert operator feature_extractor_1/center_square_crop_1/crop_to_bounding_box/Assert_3/Assert\n",
            "2025-03-12 15:17:52.860930: W tensorflow/compiler/tf2xla/kernels/assert_op.cc:39] Ignoring Assert operator feature_extractor_1/center_square_crop_1/crop_to_bounding_box/Assert_4/Assert\n",
            "2025-03-12 15:17:52.861146: W tensorflow/compiler/tf2xla/kernels/assert_op.cc:39] Ignoring Assert operator feature_extractor_1/center_square_crop_1/crop_to_bounding_box/Assert_5/Assert\n"
          ]
        },
        {
          "ename": "KeyboardInterrupt",
          "evalue": "",
          "output_type": "error",
          "traceback": [
            "\u001b[0;31m---------------------------------------------------------------------------\u001b[0m",
            "\u001b[0;31mKeyboardInterrupt\u001b[0m                         Traceback (most recent call last)",
            "Cell \u001b[0;32mIn[20], line 41\u001b[0m\n\u001b[1;32m     37\u001b[0m     \u001b[38;5;28;01mreturn\u001b[39;00m (frame_features, frame_masks), labels\n\u001b[1;32m     40\u001b[0m \u001b[38;5;66;03m# Process datasets\u001b[39;00m\n\u001b[0;32m---> 41\u001b[0m train_data, train_labels \u001b[38;5;241m=\u001b[39m \u001b[43mprepare_all_videos\u001b[49m\u001b[43m(\u001b[49m\u001b[43mds\u001b[49m\u001b[43m,\u001b[49m\u001b[43m \u001b[49m\u001b[38;5;124;43m\"\u001b[39;49m\u001b[38;5;124;43mtrain\u001b[39;49m\u001b[38;5;124;43m\"\u001b[39;49m\u001b[43m)\u001b[49m\n\u001b[1;32m     42\u001b[0m test_data, test_labels \u001b[38;5;241m=\u001b[39m prepare_all_videos(ds, \u001b[38;5;124m\"\u001b[39m\u001b[38;5;124mtest\u001b[39m\u001b[38;5;124m\"\u001b[39m)\n\u001b[1;32m     43\u001b[0m valid_data, valid_labels \u001b[38;5;241m=\u001b[39m prepare_all_videos(ds, \u001b[38;5;124m\"\u001b[39m\u001b[38;5;124mvalid\u001b[39m\u001b[38;5;124m\"\u001b[39m)\n",
            "Cell \u001b[0;32mIn[20], line 14\u001b[0m, in \u001b[0;36mprepare_all_videos\u001b[0;34m(ds, split)\u001b[0m\n\u001b[1;32m      8\u001b[0m frame_features \u001b[38;5;241m=\u001b[39m np\u001b[38;5;241m.\u001b[39mzeros(\n\u001b[1;32m      9\u001b[0m     shape\u001b[38;5;241m=\u001b[39m(num_samples, MAX_SEQ_LENGTH, NUM_FEATURES), dtype\u001b[38;5;241m=\u001b[39m\u001b[38;5;124m\"\u001b[39m\u001b[38;5;124mfloat32\u001b[39m\u001b[38;5;124m\"\u001b[39m\n\u001b[1;32m     10\u001b[0m )\n\u001b[1;32m     12\u001b[0m \u001b[38;5;28;01mfor\u001b[39;00m idx, path \u001b[38;5;129;01min\u001b[39;00m \u001b[38;5;28menumerate\u001b[39m(video_paths):\n\u001b[1;32m     13\u001b[0m     \u001b[38;5;66;03m# Load and preprocess video frames\u001b[39;00m\n\u001b[0;32m---> 14\u001b[0m     frames \u001b[38;5;241m=\u001b[39m \u001b[43mload_video\u001b[49m\u001b[43m(\u001b[49m\u001b[43mpath\u001b[49m\u001b[43m)\u001b[49m\n\u001b[1;32m     15\u001b[0m     video_length \u001b[38;5;241m=\u001b[39m frames\u001b[38;5;241m.\u001b[39mshape[\u001b[38;5;241m0\u001b[39m]\n\u001b[1;32m     17\u001b[0m     \u001b[38;5;66;03m# Trim or pad frames to MAX_SEQ_LENGTH\u001b[39;00m\n",
            "Cell \u001b[0;32mIn[15], line 16\u001b[0m, in \u001b[0;36mload_video\u001b[0;34m(path, max_frames)\u001b[0m\n\u001b[1;32m     14\u001b[0m \u001b[38;5;28;01mfinally\u001b[39;00m:\n\u001b[1;32m     15\u001b[0m     cap\u001b[38;5;241m.\u001b[39mrelease()\n\u001b[0;32m---> 16\u001b[0m \u001b[38;5;28;01mreturn\u001b[39;00m \u001b[43mnp\u001b[49m\u001b[38;5;241;43m.\u001b[39;49m\u001b[43marray\u001b[49m\u001b[43m(\u001b[49m\u001b[43mframes\u001b[49m\u001b[43m)\u001b[49m\n",
            "\u001b[0;31mKeyboardInterrupt\u001b[0m: "
          ]
        }
      ],
      "source": [
        "# def prepare_all_videos(ds, split):\n",
        "#     num_samples = len(ds[split])\n",
        "#     video_paths = [video['path'] for video in ds[split]['video']]\n",
        "#     labels = ds[split]['label']\n",
        "\n",
        "#     # Initialize arrays for features and masks\n",
        "#     frame_masks = np.zeros(shape=(num_samples, MAX_SEQ_LENGTH), dtype=\"bool\")\n",
        "#     frame_features = np.zeros(\n",
        "#         shape=(num_samples, MAX_SEQ_LENGTH, NUM_FEATURES), dtype=\"float32\"\n",
        "#     )\n",
        "\n",
        "#     for idx, path in enumerate(video_paths):\n",
        "#         # Load and preprocess video frames\n",
        "#         frames = load_video(path)\n",
        "#         video_length = frames.shape[0]\n",
        "\n",
        "#         # Trim or pad frames to MAX_SEQ_LENGTH\n",
        "#         if video_length > MAX_SEQ_LENGTH:\n",
        "#             frames = frames[:MAX_SEQ_LENGTH]\n",
        "#             mask = np.ones(MAX_SEQ_LENGTH, dtype=\"bool\")\n",
        "#         else:\n",
        "#             padding = np.zeros((MAX_SEQ_LENGTH - video_length, *frames.shape[1:]), dtype=frames.dtype)\n",
        "#             frames = np.concatenate([frames, padding], axis=0)\n",
        "#             mask = np.zeros(MAX_SEQ_LENGTH, dtype=\"bool\")\n",
        "#             mask[:video_length] = 1  # Mark valid frames\n",
        "\n",
        "#         # Batch process frames using feature_extractor\n",
        "#         if split in ['test', 'valid']:\n",
        "#             batch_features = feature_extractor_predict.predict(frames, verbose=0)\n",
        "#         else:\n",
        "#             batch_features = feature_extractor.predict(frames, verbose=0)\n",
        "\n",
        "#         # Store features and masks\n",
        "#         frame_features[idx] = batch_features\n",
        "#         frame_masks[idx] = mask\n",
        "\n",
        "#     return (frame_features, frame_masks), labels\n",
        "\n",
        "\n",
        "# # Process datasets\n",
        "# train_data, train_labels = prepare_all_videos(ds, \"train\")\n",
        "# test_data, test_labels = prepare_all_videos(ds, \"test\")\n",
        "# valid_data, valid_labels = prepare_all_videos(ds, \"valid\")\n",
        "\n",
        "# print(f\"Frame features in train set: {train_data[0].shape}\")\n",
        "# print(f\"Frame masks in train set: {train_data[1].shape}\")"
      ]
    },
    {
      "cell_type": "markdown",
      "metadata": {
        "id": "Gh5KFMhA25wi"
      },
      "source": [
        "[220, 100, 2048]"
      ]
    },
    {
      "cell_type": "code",
      "execution_count": null,
      "metadata": {
        "id": "XZWjIW1QNc-7"
      },
      "outputs": [],
      "source": [
        "# import pickle\n",
        "# import os\n",
        "\n",
        "# data_types = ['train', 'test', 'valid']\n",
        "# save_dir = os.path.join(ROOT_DIR, 'data', 'intermediate')\n",
        "\n",
        "# for data_type in data_types:\n",
        "#     data_file = os.path.join(save_dir, f'{data_type}_data.pkl')\n",
        "#     labels_file = os.path.join(save_dir, f'{data_type}_labels.pkl')\n",
        "\n",
        "#     with open(data_file, 'wb') as f:\n",
        "#         pickle.dump(eval(f'{data_type}_data'), f)\n",
        "\n",
        "#     with open(labels_file, 'wb') as f:\n",
        "#         pickle.dump(eval(f'{data_type}_labels'), f)"
      ]
    },
    {
      "cell_type": "code",
      "execution_count": null,
      "metadata": {
        "colab": {
          "base_uri": "https://localhost:8080/"
        },
        "id": "MIKy_BjssX8u",
        "outputId": "e4d037c8-be18-4a96-9584-750a0146445c"
      },
      "outputs": [
        {
          "name": "stdout",
          "output_type": "stream",
          "text": [
            "Data loaded successfully!\n",
            "Train data shape: (424, 100, 2048)\n",
            "Train labels shape: 424\n"
          ]
        }
      ],
      "source": [
        "# # prompt: load train,test,valid _data and _labels.pkl from /content/drive/MyDrive/bisindo_data\n",
        "\n",
        "# import pickle\n",
        "# import os\n",
        "\n",
        "# # Load the data and labels from the pickle files\n",
        "# save_dir = '/content/drive/MyDrive/bisindo_data'\n",
        "\n",
        "# train_data = pickle.load(open(os.path.join(save_dir, 'train_data.pkl'), 'rb'))\n",
        "# train_labels = pickle.load(open(os.path.join(save_dir, 'train_labels.pkl'), 'rb'))\n",
        "\n",
        "# test_data = pickle.load(open(os.path.join(save_dir, 'test_data.pkl'), 'rb'))\n",
        "# test_labels = pickle.load(open(os.path.join(save_dir, 'test_labels.pkl'), 'rb'))\n",
        "\n",
        "# valid_data = pickle.load(open(os.path.join(save_dir, 'valid_data.pkl'), 'rb'))\n",
        "# valid_labels = pickle.load(open(os.path.join(save_dir, 'valid_labels.pkl'), 'rb'))\n",
        "\n",
        "# print(\"Data loaded successfully!\")\n",
        "# print(f\"Train data shape: {train_data[0].shape}\")\n",
        "# print(f\"Train labels shape: {len(train_labels)}\")"
      ]
    },
    {
      "cell_type": "markdown",
      "metadata": {
        "id": "eqqrU8jWL-Vo"
      },
      "source": [
        "# Training the sequence model"
      ]
    },
    {
      "cell_type": "code",
      "execution_count": 3,
      "metadata": {},
      "outputs": [
        {
          "name": "stderr",
          "output_type": "stream",
          "text": [
            "/teamspace/studios/this_studio/bisindo-video-recognition/.venv/lib/python3.10/site-packages/tqdm/auto.py:21: TqdmWarning: IProgress not found. Please update jupyter and ipywidgets. See https://ipywidgets.readthedocs.io/en/stable/user_install.html\n",
            "  from .autonotebook import tqdm as notebook_tqdm\n"
          ]
        },
        {
          "name": "stderr",
          "output_type": "stream",
          "text": [
            "/teamspace/studios/this_studio/bisindo-video-recognition/.venv/lib/python3.10/site-packages/datasets/arrow_dataset.py:405: FutureWarning: The output of `to_tf_dataset` will change when a passing single element list for `labels` or `columns` in the next datasets version. To return a tuple structure rather than dict, pass a single string.\n",
            "Old behaviour: columns=['a'], labels=['labels'] -> (tf.Tensor, tf.Tensor)  \n",
            "             : columns='a', labels='labels' -> (tf.Tensor, tf.Tensor)  \n",
            "New behaviour: columns=['a'],labels=['labels'] -> ({'a': tf.Tensor}, {'labels': tf.Tensor})  \n",
            "             : columns='a', labels='labels' -> (tf.Tensor, tf.Tensor) \n",
            "  warnings.warn(\n",
            "I0000 00:00:1741982711.459225   54087 gpu_device.cc:2019] Created device /job:localhost/replica:0/task:0/device:GPU:0 with 13949 MB memory:  -> device: 0, name: Tesla T4, pci bus id: 0000:00:1e.0, compute capability: 7.5\n"
          ]
        }
      ],
      "source": [
        "# load if needed\n",
        "from datasets import load_from_disk\n",
        "\n",
        "train_ds = load_from_disk(os.path.join(PROCESSED_DATA_PATH, \"train\"))\\\n",
        "    .to_tf_dataset(\n",
        "        columns=[\"features\", \"mask\"],\n",
        "        label_cols=[\"label\"],\n",
        "        shuffle=True,\n",
        "        batch_size=BATCH_SIZE,\n",
        "    )\n",
        "valid_ds = load_from_disk(os.path.join(PROCESSED_DATA_PATH, \"valid\"))\\\n",
        "    .to_tf_dataset(\n",
        "        columns=[\"features\", \"mask\"],\n",
        "        label_cols=[\"label\"],\n",
        "        shuffle=True,\n",
        "        batch_size=BATCH_SIZE,\n",
        "    )\n",
        "\n",
        "test_ds = load_from_disk(os.path.join(PROCESSED_DATA_PATH, \"test\"))\n",
        "\n",
        "label_feature = test_ds.features['label']\n",
        "label_names = label_feature.names\n",
        "label_dict = {i: name for i, name in enumerate(label_names)}\n",
        "\n",
        "test_ds = test_ds.to_tf_dataset(\n",
        "    columns=[\"features\", \"mask\"],\n",
        "    label_cols=[\"label\"],\n",
        "    shuffle=True,\n",
        "    batch_size=BATCH_SIZE,\n",
        ")"
      ]
    },
    {
      "cell_type": "code",
      "execution_count": 4,
      "metadata": {
        "colab": {
          "base_uri": "https://localhost:8080/"
        },
        "id": "nQ-nFw0Rs2qf",
        "outputId": "410e411d-dcf0-44b3-8c27-6aa75daced5a"
      },
      "outputs": [],
      "source": [
        "# Utility for our sequence model.\n",
        "def get_sequence_model():\n",
        "    frame_features_input = tf.keras.Input((MAX_SEQ_LENGTH, NUM_FEATURES), name='features')\n",
        "    mask_input = tf.keras.Input((MAX_SEQ_LENGTH,), dtype=\"bool\", name='mask')\n",
        "\n",
        "    x = tf.keras.layers.Bidirectional(tf.keras.layers.LSTM(256, return_sequences=True))(frame_features_input, mask=mask_input)\n",
        "    x = tf.keras.layers.Dropout(0.4)(x)\n",
        "    x = tf.keras.layers.LSTM(128)(x)\n",
        "    x = tf.keras.layers.Dropout(0.3)(x)\n",
        "    x = tf.keras.layers.Dense(1024, activation=\"elu\")(x)\n",
        "    x = tf.keras.layers.Dense(512, activation='elu')(x)\n",
        "    output = tf.keras.layers.Dense(len(label_names), activation=\"softmax\")(x)\n",
        "\n",
        "    rnn_model = tf.keras.Model(inputs=[frame_features_input, mask_input], outputs=output)\n",
        "\n",
        "    rnn_model.compile(\n",
        "        loss=\"sparse_categorical_crossentropy\",\n",
        "        optimizer=tf.keras.optimizers.Adam(1e-4),\n",
        "        metrics=[\"accuracy\"]\n",
        "    )\n",
        "    return rnn_model"
      ]
    },
    {
      "cell_type": "code",
      "execution_count": 6,
      "metadata": {},
      "outputs": [],
      "source": [
        "tf.keras.backend.clear_session()"
      ]
    },
    {
      "cell_type": "code",
      "execution_count": 7,
      "metadata": {},
      "outputs": [
        {
          "name": "stdout",
          "output_type": "stream",
          "text": [
            "Epoch 1/500\n",
            "10/10 - 6s - 637ms/step - accuracy: 0.0641 - loss: 2.7650 - val_accuracy: 0.0541 - val_loss: 2.7181\n",
            "Epoch 2/500\n",
            "10/10 - 3s - 348ms/step - accuracy: 0.1332 - loss: 2.6926 - val_accuracy: 0.1622 - val_loss: 2.6839\n",
            "Epoch 3/500\n",
            "10/10 - 5s - 504ms/step - accuracy: 0.2327 - loss: 2.5827 - val_accuracy: 0.1757 - val_loss: 2.5971\n",
            "Epoch 4/500\n",
            "10/10 - 5s - 472ms/step - accuracy: 0.2749 - loss: 2.4447 - val_accuracy: 0.2838 - val_loss: 2.4574\n",
            "Epoch 5/500\n",
            "10/10 - 3s - 343ms/step - accuracy: 0.3423 - loss: 2.2969 - val_accuracy: 0.3108 - val_loss: 2.2874\n",
            "Epoch 6/500\n",
            "10/10 - 5s - 462ms/step - accuracy: 0.3912 - loss: 2.1490 - val_accuracy: 0.3784 - val_loss: 2.1640\n",
            "Epoch 7/500\n",
            "10/10 - 3s - 315ms/step - accuracy: 0.4165 - loss: 2.0217 - val_accuracy: 0.4459 - val_loss: 1.9956\n",
            "Epoch 8/500\n",
            "10/10 - 3s - 330ms/step - accuracy: 0.4840 - loss: 1.8652 - val_accuracy: 0.4865 - val_loss: 1.8689\n",
            "Epoch 9/500\n",
            "10/10 - 3s - 331ms/step - accuracy: 0.5379 - loss: 1.6960 - val_accuracy: 0.5405 - val_loss: 1.7253\n",
            "Epoch 10/500\n",
            "10/10 - 3s - 342ms/step - accuracy: 0.5481 - loss: 1.5959 - val_accuracy: 0.5135 - val_loss: 1.7506\n",
            "Epoch 11/500\n",
            "10/10 - 4s - 364ms/step - accuracy: 0.5885 - loss: 1.5429 - val_accuracy: 0.5946 - val_loss: 1.4742\n",
            "Epoch 12/500\n",
            "10/10 - 3s - 329ms/step - accuracy: 0.6779 - loss: 1.3425 - val_accuracy: 0.7297 - val_loss: 1.2633\n",
            "Epoch 13/500\n",
            "10/10 - 3s - 301ms/step - accuracy: 0.6998 - loss: 1.1695 - val_accuracy: 0.6622 - val_loss: 1.2319\n",
            "Epoch 14/500\n",
            "10/10 - 3s - 328ms/step - accuracy: 0.6847 - loss: 1.1494 - val_accuracy: 0.7162 - val_loss: 1.0479\n",
            "Epoch 15/500\n",
            "10/10 - 3s - 335ms/step - accuracy: 0.6543 - loss: 1.1327 - val_accuracy: 0.7568 - val_loss: 0.9001\n",
            "Epoch 16/500\n",
            "10/10 - 3s - 332ms/step - accuracy: 0.7099 - loss: 0.9763 - val_accuracy: 0.7162 - val_loss: 0.9470\n",
            "Epoch 17/500\n",
            "10/10 - 5s - 478ms/step - accuracy: 0.7116 - loss: 0.9419 - val_accuracy: 0.6216 - val_loss: 1.1492\n",
            "Epoch 18/500\n",
            "10/10 - 3s - 317ms/step - accuracy: 0.6948 - loss: 0.9541 - val_accuracy: 0.6892 - val_loss: 1.0767\n",
            "Epoch 19/500\n",
            "10/10 - 3s - 315ms/step - accuracy: 0.7234 - loss: 0.9303 - val_accuracy: 0.7568 - val_loss: 0.8056\n",
            "Epoch 20/500\n",
            "10/10 - 5s - 490ms/step - accuracy: 0.7622 - loss: 0.8185 - val_accuracy: 0.7027 - val_loss: 0.9930\n",
            "Epoch 21/500\n",
            "10/10 - 3s - 303ms/step - accuracy: 0.7943 - loss: 0.6934 - val_accuracy: 0.8243 - val_loss: 0.5742\n",
            "Epoch 22/500\n",
            "10/10 - 3s - 318ms/step - accuracy: 0.8263 - loss: 0.6312 - val_accuracy: 0.7838 - val_loss: 0.6298\n",
            "Epoch 23/500\n",
            "10/10 - 3s - 312ms/step - accuracy: 0.8415 - loss: 0.5884 - val_accuracy: 0.8108 - val_loss: 0.6313\n",
            "Epoch 24/500\n",
            "10/10 - 3s - 324ms/step - accuracy: 0.7960 - loss: 0.6524 - val_accuracy: 0.9324 - val_loss: 0.4040\n",
            "Epoch 25/500\n",
            "10/10 - 3s - 332ms/step - accuracy: 0.8297 - loss: 0.6109 - val_accuracy: 0.8649 - val_loss: 0.4973\n",
            "Epoch 26/500\n",
            "10/10 - 3s - 317ms/step - accuracy: 0.8212 - loss: 0.5952 - val_accuracy: 0.7838 - val_loss: 0.5929\n",
            "Epoch 27/500\n",
            "10/10 - 3s - 314ms/step - accuracy: 0.8550 - loss: 0.4803 - val_accuracy: 0.7568 - val_loss: 0.7065\n",
            "Epoch 28/500\n",
            "10/10 - 3s - 333ms/step - accuracy: 0.8567 - loss: 0.4611 - val_accuracy: 0.8784 - val_loss: 0.3773\n",
            "Epoch 29/500\n",
            "10/10 - 3s - 304ms/step - accuracy: 0.9073 - loss: 0.3412 - val_accuracy: 0.8514 - val_loss: 0.4881\n",
            "Epoch 30/500\n",
            "10/10 - 3s - 305ms/step - accuracy: 0.9292 - loss: 0.2992 - val_accuracy: 0.7838 - val_loss: 0.6762\n",
            "Epoch 31/500\n",
            "10/10 - 3s - 310ms/step - accuracy: 0.7285 - loss: 0.8165 - val_accuracy: 0.7162 - val_loss: 0.9756\n",
            "Epoch 32/500\n",
            "10/10 - 3s - 304ms/step - accuracy: 0.6998 - loss: 0.8624 - val_accuracy: 0.5405 - val_loss: 1.5934\n",
            "Epoch 33/500\n",
            "10/10 - 3s - 309ms/step - accuracy: 0.6847 - loss: 0.9262 - val_accuracy: 0.7703 - val_loss: 0.9008\n",
            "Epoch 34/500\n",
            "10/10 - 3s - 316ms/step - accuracy: 0.8010 - loss: 0.6211 - val_accuracy: 0.8378 - val_loss: 0.6230\n",
            "Epoch 35/500\n",
            "10/10 - 3s - 308ms/step - accuracy: 0.8954 - loss: 0.4106 - val_accuracy: 0.8649 - val_loss: 0.4481\n",
            "Epoch 36/500\n",
            "10/10 - 3s - 301ms/step - accuracy: 0.9342 - loss: 0.3129 - val_accuracy: 0.8243 - val_loss: 0.5342\n",
            "Epoch 37/500\n",
            "10/10 - 3s - 299ms/step - accuracy: 0.9157 - loss: 0.2732 - val_accuracy: 0.8784 - val_loss: 0.3439\n",
            "Epoch 38/500\n",
            "10/10 - 5s - 509ms/step - accuracy: 0.9696 - loss: 0.1989 - val_accuracy: 0.9324 - val_loss: 0.2510\n",
            "Epoch 39/500\n",
            "10/10 - 3s - 297ms/step - accuracy: 0.9646 - loss: 0.1826 - val_accuracy: 0.9324 - val_loss: 0.3550\n",
            "Epoch 40/500\n",
            "10/10 - 3s - 302ms/step - accuracy: 0.9595 - loss: 0.1782 - val_accuracy: 0.9459 - val_loss: 0.2211\n",
            "Epoch 41/500\n",
            "10/10 - 3s - 308ms/step - accuracy: 0.9595 - loss: 0.1604 - val_accuracy: 0.9189 - val_loss: 0.3549\n",
            "Epoch 42/500\n",
            "10/10 - 3s - 305ms/step - accuracy: 0.9747 - loss: 0.1236 - val_accuracy: 0.9054 - val_loss: 0.3907\n",
            "Epoch 43/500\n",
            "10/10 - 3s - 311ms/step - accuracy: 0.9730 - loss: 0.1361 - val_accuracy: 0.9595 - val_loss: 0.2048\n",
            "Epoch 44/500\n",
            "10/10 - 3s - 335ms/step - accuracy: 0.9747 - loss: 0.1170 - val_accuracy: 0.9595 - val_loss: 0.1776\n",
            "Epoch 45/500\n",
            "10/10 - 3s - 306ms/step - accuracy: 0.9865 - loss: 0.0971 - val_accuracy: 0.9324 - val_loss: 0.1868\n",
            "Epoch 46/500\n",
            "10/10 - 3s - 312ms/step - accuracy: 0.9848 - loss: 0.0924 - val_accuracy: 0.9189 - val_loss: 0.3722\n",
            "Epoch 47/500\n",
            "10/10 - 4s - 357ms/step - accuracy: 0.9865 - loss: 0.0895 - val_accuracy: 0.8649 - val_loss: 0.4285\n",
            "Epoch 48/500\n",
            "10/10 - 3s - 328ms/step - accuracy: 0.9629 - loss: 0.1105 - val_accuracy: 0.9324 - val_loss: 0.2952\n",
            "Epoch 49/500\n",
            "10/10 - 5s - 497ms/step - accuracy: 0.9747 - loss: 0.1130 - val_accuracy: 0.9730 - val_loss: 0.1423\n",
            "Epoch 50/500\n",
            "10/10 - 5s - 510ms/step - accuracy: 0.9899 - loss: 0.0770 - val_accuracy: 0.9595 - val_loss: 0.2525\n",
            "Epoch 51/500\n",
            "10/10 - 3s - 344ms/step - accuracy: 0.9815 - loss: 0.0872 - val_accuracy: 0.9324 - val_loss: 0.2376\n",
            "Epoch 52/500\n",
            "10/10 - 3s - 307ms/step - accuracy: 0.9831 - loss: 0.0924 - val_accuracy: 0.9324 - val_loss: 0.3129\n",
            "Epoch 53/500\n",
            "10/10 - 3s - 314ms/step - accuracy: 0.9882 - loss: 0.0647 - val_accuracy: 0.9324 - val_loss: 0.1683\n",
            "Epoch 54/500\n",
            "10/10 - 3s - 307ms/step - accuracy: 0.9848 - loss: 0.0566 - val_accuracy: 0.9324 - val_loss: 0.1969\n",
            "Epoch 55/500\n",
            "10/10 - 3s - 305ms/step - accuracy: 0.9865 - loss: 0.0552 - val_accuracy: 0.9324 - val_loss: 0.1533\n",
            "Epoch 56/500\n",
            "10/10 - 3s - 336ms/step - accuracy: 0.9815 - loss: 0.0637 - val_accuracy: 0.9189 - val_loss: 0.3037\n",
            "Epoch 57/500\n",
            "10/10 - 3s - 318ms/step - accuracy: 0.9562 - loss: 0.1373 - val_accuracy: 0.9459 - val_loss: 0.2176\n",
            "Epoch 58/500\n",
            "10/10 - 3s - 332ms/step - accuracy: 0.9410 - loss: 0.2126 - val_accuracy: 0.9189 - val_loss: 0.2389\n",
            "Epoch 59/500\n",
            "10/10 - 3s - 329ms/step - accuracy: 0.9376 - loss: 0.1948 - val_accuracy: 0.9324 - val_loss: 0.2346\n",
            "Epoch 60/500\n",
            "10/10 - 3s - 297ms/step - accuracy: 0.9545 - loss: 0.1394 - val_accuracy: 0.8784 - val_loss: 0.3469\n",
            "Epoch 61/500\n",
            "10/10 - 3s - 309ms/step - accuracy: 0.9612 - loss: 0.1615 - val_accuracy: 0.8784 - val_loss: 0.3232\n",
            "Epoch 62/500\n",
            "10/10 - 5s - 491ms/step - accuracy: 0.9713 - loss: 0.1066 - val_accuracy: 0.8784 - val_loss: 0.3986\n",
            "Epoch 63/500\n",
            "10/10 - 3s - 326ms/step - accuracy: 0.9629 - loss: 0.1355 - val_accuracy: 0.9189 - val_loss: 0.4209\n",
            "Epoch 64/500\n",
            "10/10 - 3s - 319ms/step - accuracy: 0.9275 - loss: 0.2076 - val_accuracy: 0.9189 - val_loss: 0.3116\n",
            "Epoch 65/500\n",
            "10/10 - 3s - 314ms/step - accuracy: 0.9562 - loss: 0.1339 - val_accuracy: 0.8514 - val_loss: 0.5928\n",
            "Epoch 66/500\n",
            "10/10 - 3s - 309ms/step - accuracy: 0.9646 - loss: 0.1524 - val_accuracy: 0.8378 - val_loss: 0.5294\n",
            "Epoch 67/500\n",
            "10/10 - 3s - 331ms/step - accuracy: 0.9781 - loss: 0.0775 - val_accuracy: 0.9189 - val_loss: 0.2848\n",
            "Epoch 68/500\n",
            "10/10 - 3s - 324ms/step - accuracy: 0.9696 - loss: 0.1026 - val_accuracy: 0.9189 - val_loss: 0.2353\n",
            "Epoch 69/500\n",
            "10/10 - 3s - 314ms/step - accuracy: 0.9865 - loss: 0.0653 - val_accuracy: 0.8784 - val_loss: 0.3715\n",
            "Epoch 70/500\n",
            "10/10 - 3s - 349ms/step - accuracy: 0.9949 - loss: 0.0428 - val_accuracy: 0.9324 - val_loss: 0.2591\n",
            "Epoch 71/500\n",
            "10/10 - 3s - 343ms/step - accuracy: 0.9933 - loss: 0.0413 - val_accuracy: 0.9595 - val_loss: 0.2548\n",
            "Epoch 72/500\n",
            "10/10 - 5s - 494ms/step - accuracy: 0.9966 - loss: 0.0279 - val_accuracy: 0.9595 - val_loss: 0.1935\n",
            "Epoch 73/500\n",
            "10/10 - 3s - 345ms/step - accuracy: 0.9983 - loss: 0.0231 - val_accuracy: 0.9595 - val_loss: 0.2733\n",
            "Epoch 74/500\n",
            "10/10 - 5s - 474ms/step - accuracy: 0.9966 - loss: 0.0337 - val_accuracy: 0.9595 - val_loss: 0.1538\n",
            "Epoch 75/500\n",
            "10/10 - 3s - 326ms/step - accuracy: 0.9966 - loss: 0.0252 - val_accuracy: 0.9189 - val_loss: 0.3854\n",
            "Epoch 76/500\n",
            "10/10 - 3s - 320ms/step - accuracy: 1.0000 - loss: 0.0167 - val_accuracy: 0.9324 - val_loss: 0.3059\n",
            "Epoch 77/500\n",
            "10/10 - 3s - 302ms/step - accuracy: 1.0000 - loss: 0.0139 - val_accuracy: 0.9595 - val_loss: 0.2157\n",
            "Epoch 78/500\n",
            "10/10 - 3s - 297ms/step - accuracy: 0.9983 - loss: 0.0142 - val_accuracy: 0.9459 - val_loss: 0.2480\n",
            "Epoch 79/500\n",
            "10/10 - 3s - 341ms/step - accuracy: 0.9983 - loss: 0.0137 - val_accuracy: 0.9730 - val_loss: 0.2255\n",
            "Epoch 80/500\n",
            "10/10 - 5s - 531ms/step - accuracy: 0.9983 - loss: 0.0117 - val_accuracy: 0.9595 - val_loss: 0.2697\n",
            "Epoch 81/500\n",
            "10/10 - 3s - 307ms/step - accuracy: 0.9983 - loss: 0.0129 - val_accuracy: 0.9730 - val_loss: 0.2389\n",
            "Epoch 82/500\n",
            "10/10 - 3s - 327ms/step - accuracy: 1.0000 - loss: 0.0105 - val_accuracy: 0.9595 - val_loss: 0.2139\n",
            "Epoch 83/500\n",
            "10/10 - 3s - 302ms/step - accuracy: 0.9966 - loss: 0.0160 - val_accuracy: 0.9730 - val_loss: 0.2070\n",
            "Epoch 84/500\n",
            "10/10 - 5s - 503ms/step - accuracy: 0.9983 - loss: 0.0092 - val_accuracy: 0.9730 - val_loss: 0.2078\n",
            "Epoch 85/500\n",
            "10/10 - 3s - 295ms/step - accuracy: 0.9966 - loss: 0.0170 - val_accuracy: 0.9459 - val_loss: 0.2317\n",
            "Epoch 86/500\n",
            "10/10 - 3s - 315ms/step - accuracy: 0.9983 - loss: 0.0104 - val_accuracy: 0.9459 - val_loss: 0.2434\n",
            "Epoch 87/500\n",
            "10/10 - 3s - 309ms/step - accuracy: 0.9983 - loss: 0.0134 - val_accuracy: 0.9595 - val_loss: 0.2331\n",
            "Epoch 88/500\n",
            "10/10 - 5s - 489ms/step - accuracy: 0.9983 - loss: 0.0088 - val_accuracy: 0.9595 - val_loss: 0.2076\n",
            "Epoch 89/500\n",
            "10/10 - 3s - 295ms/step - accuracy: 0.9983 - loss: 0.0118 - val_accuracy: 0.9730 - val_loss: 0.1821\n",
            "Epoch 90/500\n",
            "10/10 - 3s - 325ms/step - accuracy: 0.9966 - loss: 0.0118 - val_accuracy: 0.9730 - val_loss: 0.2092\n",
            "Epoch 91/500\n",
            "10/10 - 3s - 341ms/step - accuracy: 0.9983 - loss: 0.0120 - val_accuracy: 0.9459 - val_loss: 0.2697\n",
            "Epoch 92/500\n",
            "10/10 - 5s - 467ms/step - accuracy: 0.9983 - loss: 0.0091 - val_accuracy: 0.9459 - val_loss: 0.3208\n",
            "Epoch 93/500\n",
            "10/10 - 3s - 333ms/step - accuracy: 0.9983 - loss: 0.0093 - val_accuracy: 0.9324 - val_loss: 0.3333\n",
            "Epoch 94/500\n",
            "10/10 - 3s - 309ms/step - accuracy: 1.0000 - loss: 0.0075 - val_accuracy: 0.9324 - val_loss: 0.2903\n",
            "Epoch 95/500\n",
            "10/10 - 3s - 326ms/step - accuracy: 0.9966 - loss: 0.0100 - val_accuracy: 0.9595 - val_loss: 0.2049\n",
            "Epoch 96/500\n",
            "10/10 - 3s - 312ms/step - accuracy: 0.9983 - loss: 0.0070 - val_accuracy: 0.9865 - val_loss: 0.1709\n",
            "Epoch 97/500\n",
            "10/10 - 5s - 488ms/step - accuracy: 0.9966 - loss: 0.0123 - val_accuracy: 0.9865 - val_loss: 0.1531\n",
            "Epoch 98/500\n",
            "10/10 - 3s - 318ms/step - accuracy: 0.9983 - loss: 0.0080 - val_accuracy: 0.9459 - val_loss: 0.2485\n",
            "Epoch 99/500\n",
            "10/10 - 3s - 331ms/step - accuracy: 0.9983 - loss: 0.0120 - val_accuracy: 0.9459 - val_loss: 0.2678\n",
            "Epoch 99: early stopping\n",
            "Restoring model weights from the end of the best epoch: 49.\n",
            "Test accuracy: 88.0%\n"
          ]
        },
        {
          "name": "stderr",
          "output_type": "stream",
          "text": [
            "WARNING: The following untracked files were present in the workspace before saving but will not be included in the experiment commit:\n",
            "\tuv.lock, data/external/.gitkeep, data/interim/.gitkeep, data/interim/processed_ds_random/test/data-00000-of-00001.arrow, data/interim/processed_ds_random/test/dataset_info.json, data/interim/processed_ds_random/test/state.json, data/interim/processed_ds_random/train/data-00000-of-00001.arrow, data/interim/processed_ds_random/train/dataset_info.json, data/interim/processed_ds_random/train/state.json, data/interim/processed_ds_random/valid/data-00000-of-00001.arrow, data/interim/processed_ds_random/valid/dataset_info.json, data/interim/processed_ds_random/valid/state.json, data/processed/.gitkeep, models/seq_model.keras.dvc, models/.gitignore, notebooks/1.0-sam-cnn-lstm-experiment.ipynb, notebooks/0.0.1-sam-copy-data-to-bucket.ipynb\n"
          ]
        }
      ],
      "source": [
        "\n",
        "early_stopping = tf.keras.callbacks.EarlyStopping(monitor=\"val_loss\",\n",
        "                                                    patience=50,\n",
        "                                                    restore_best_weights=True,\n",
        "                                                    verbose=1)\n",
        "\n",
        "seq_model = get_sequence_model()\n",
        "\n",
        "with Live(dir=os.path.join(ROOT_DIR, 'dvclive')) as live:\n",
        "    history = seq_model.fit(\n",
        "        train_ds,\n",
        "        validation_data=valid_ds,\n",
        "        epochs=EPOCHS,\n",
        "        callbacks=[\n",
        "            early_stopping,\n",
        "            DVCLiveCallback(live=live)\n",
        "        ],\n",
        "        verbose=2\n",
        "    )\n",
        "    seq_model.save(model_save_path)\n",
        "\n",
        "    loss, accuracy = seq_model.evaluate(test_ds, verbose=0)\n",
        "    live.log_metric(\"test_loss\", loss)\n",
        "    live.log_metric(\"test_accuracy\", accuracy)\n",
        "    print(f\"Test accuracy: {round(accuracy * 100, 2)}%\")"
      ]
    }
  ],
  "metadata": {
    "accelerator": "GPU",
    "colab": {
      "gpuType": "T4",
      "provenance": []
    },
    "kernelspec": {
      "display_name": ".venv",
      "language": "python",
      "name": "python3"
    },
    "language_info": {
      "codemirror_mode": {
        "name": "ipython",
        "version": 3
      },
      "file_extension": ".py",
      "mimetype": "text/x-python",
      "name": "python",
      "nbconvert_exporter": "python",
      "pygments_lexer": "ipython3",
      "version": "3.10.16"
    },
    "widgets": {
      "application/vnd.jupyter.widget-state+json": {
        "02f24cd0382b4c7b9ede36cd2698e0d6": {
          "model_module": "@jupyter-widgets/base",
          "model_module_version": "1.2.0",
          "model_name": "LayoutModel",
          "state": {
            "_model_module": "@jupyter-widgets/base",
            "_model_module_version": "1.2.0",
            "_model_name": "LayoutModel",
            "_view_count": null,
            "_view_module": "@jupyter-widgets/base",
            "_view_module_version": "1.2.0",
            "_view_name": "LayoutView",
            "align_content": null,
            "align_items": null,
            "align_self": null,
            "border": null,
            "bottom": null,
            "display": null,
            "flex": null,
            "flex_flow": null,
            "grid_area": null,
            "grid_auto_columns": null,
            "grid_auto_flow": null,
            "grid_auto_rows": null,
            "grid_column": null,
            "grid_gap": null,
            "grid_row": null,
            "grid_template_areas": null,
            "grid_template_columns": null,
            "grid_template_rows": null,
            "height": null,
            "justify_content": null,
            "justify_items": null,
            "left": null,
            "margin": null,
            "max_height": null,
            "max_width": null,
            "min_height": null,
            "min_width": null,
            "object_fit": null,
            "object_position": null,
            "order": null,
            "overflow": null,
            "overflow_x": null,
            "overflow_y": null,
            "padding": null,
            "right": null,
            "top": null,
            "visibility": null,
            "width": null
          }
        },
        "109993f7fe6a469da33ed83d3ebe92ca": {
          "model_module": "@jupyter-widgets/controls",
          "model_module_version": "1.5.0",
          "model_name": "HTMLModel",
          "state": {
            "_dom_classes": [],
            "_model_module": "@jupyter-widgets/controls",
            "_model_module_version": "1.5.0",
            "_model_name": "HTMLModel",
            "_view_count": null,
            "_view_module": "@jupyter-widgets/controls",
            "_view_module_version": "1.5.0",
            "_view_name": "HTMLView",
            "description": "",
            "description_tooltip": null,
            "layout": "IPY_MODEL_502da73225a74ad9a0736da56f06b574",
            "placeholder": "​",
            "style": "IPY_MODEL_9a7b7808d5d1435bb3b29d6398602e54",
            "value": " 531/531 [00:00&lt;00:00, 2556.34files/s]"
          }
        },
        "16b82d538e614f12a05a7f20a67e6860": {
          "model_module": "@jupyter-widgets/controls",
          "model_module_version": "1.5.0",
          "model_name": "DescriptionStyleModel",
          "state": {
            "_model_module": "@jupyter-widgets/controls",
            "_model_module_version": "1.5.0",
            "_model_name": "DescriptionStyleModel",
            "_view_count": null,
            "_view_module": "@jupyter-widgets/base",
            "_view_module_version": "1.2.0",
            "_view_name": "StyleView",
            "description_width": ""
          }
        },
        "1ad844b3f8654732a3bb444e1d3c069b": {
          "model_module": "@jupyter-widgets/controls",
          "model_module_version": "1.5.0",
          "model_name": "HTMLModel",
          "state": {
            "_dom_classes": [],
            "_model_module": "@jupyter-widgets/controls",
            "_model_module_version": "1.5.0",
            "_model_name": "HTMLModel",
            "_view_count": null,
            "_view_module": "@jupyter-widgets/controls",
            "_view_module_version": "1.5.0",
            "_view_name": "HTMLView",
            "description": "",
            "description_tooltip": null,
            "layout": "IPY_MODEL_dee71d5e90164ed18ef003825c3aec04",
            "placeholder": "​",
            "style": "IPY_MODEL_45726b40dd7d4100a980a1fbc1e66a47",
            "value": "Downloading data: 100%"
          }
        },
        "1cda498d8a9e48b8b82ccb985e5c5fc7": {
          "model_module": "@jupyter-widgets/controls",
          "model_module_version": "1.5.0",
          "model_name": "ProgressStyleModel",
          "state": {
            "_model_module": "@jupyter-widgets/controls",
            "_model_module_version": "1.5.0",
            "_model_name": "ProgressStyleModel",
            "_view_count": null,
            "_view_module": "@jupyter-widgets/base",
            "_view_module_version": "1.2.0",
            "_view_name": "StyleView",
            "bar_color": null,
            "description_width": ""
          }
        },
        "26bc2066c787445492bbe6aaa14fd493": {
          "model_module": "@jupyter-widgets/base",
          "model_module_version": "1.2.0",
          "model_name": "LayoutModel",
          "state": {
            "_model_module": "@jupyter-widgets/base",
            "_model_module_version": "1.2.0",
            "_model_name": "LayoutModel",
            "_view_count": null,
            "_view_module": "@jupyter-widgets/base",
            "_view_module_version": "1.2.0",
            "_view_name": "LayoutView",
            "align_content": null,
            "align_items": null,
            "align_self": null,
            "border": null,
            "bottom": null,
            "display": null,
            "flex": null,
            "flex_flow": null,
            "grid_area": null,
            "grid_auto_columns": null,
            "grid_auto_flow": null,
            "grid_auto_rows": null,
            "grid_column": null,
            "grid_gap": null,
            "grid_row": null,
            "grid_template_areas": null,
            "grid_template_columns": null,
            "grid_template_rows": null,
            "height": null,
            "justify_content": null,
            "justify_items": null,
            "left": null,
            "margin": null,
            "max_height": null,
            "max_width": null,
            "min_height": null,
            "min_width": null,
            "object_fit": null,
            "object_position": null,
            "order": null,
            "overflow": null,
            "overflow_x": null,
            "overflow_y": null,
            "padding": null,
            "right": null,
            "top": null,
            "visibility": null,
            "width": null
          }
        },
        "2ce8db7c93c84ecca0b64292539dd2a7": {
          "model_module": "@jupyter-widgets/controls",
          "model_module_version": "1.5.0",
          "model_name": "FloatProgressModel",
          "state": {
            "_dom_classes": [],
            "_model_module": "@jupyter-widgets/controls",
            "_model_module_version": "1.5.0",
            "_model_name": "FloatProgressModel",
            "_view_count": null,
            "_view_module": "@jupyter-widgets/controls",
            "_view_module_version": "1.5.0",
            "_view_name": "ProgressView",
            "bar_style": "success",
            "description": "",
            "description_tooltip": null,
            "layout": "IPY_MODEL_9ab311939bda4a4f993b916b327c6ea9",
            "max": 531,
            "min": 0,
            "orientation": "horizontal",
            "style": "IPY_MODEL_d4cfe1d1547147db858a621ec0a7f85d",
            "value": 531
          }
        },
        "2ce9b6c09b514a74bf6f090e96be9f79": {
          "model_module": "@jupyter-widgets/controls",
          "model_module_version": "1.5.0",
          "model_name": "HBoxModel",
          "state": {
            "_dom_classes": [],
            "_model_module": "@jupyter-widgets/controls",
            "_model_module_version": "1.5.0",
            "_model_name": "HBoxModel",
            "_view_count": null,
            "_view_module": "@jupyter-widgets/controls",
            "_view_module_version": "1.5.0",
            "_view_name": "HBoxView",
            "box_style": "",
            "children": [
              "IPY_MODEL_98865d5efcf744b9b19295a7eee2a87a",
              "IPY_MODEL_97de24fe4d414a498c809bd61ae97154",
              "IPY_MODEL_7cff1474cba14536a570a5a49970930d"
            ],
            "layout": "IPY_MODEL_59259133eaa849948a37c1d3fc323bf8"
          }
        },
        "45726b40dd7d4100a980a1fbc1e66a47": {
          "model_module": "@jupyter-widgets/controls",
          "model_module_version": "1.5.0",
          "model_name": "DescriptionStyleModel",
          "state": {
            "_model_module": "@jupyter-widgets/controls",
            "_model_module_version": "1.5.0",
            "_model_name": "DescriptionStyleModel",
            "_view_count": null,
            "_view_module": "@jupyter-widgets/base",
            "_view_module_version": "1.2.0",
            "_view_name": "StyleView",
            "description_width": ""
          }
        },
        "4ce9d34838164c559990bd7cba4f289f": {
          "model_module": "@jupyter-widgets/controls",
          "model_module_version": "1.5.0",
          "model_name": "DescriptionStyleModel",
          "state": {
            "_model_module": "@jupyter-widgets/controls",
            "_model_module_version": "1.5.0",
            "_model_name": "DescriptionStyleModel",
            "_view_count": null,
            "_view_module": "@jupyter-widgets/base",
            "_view_module_version": "1.2.0",
            "_view_name": "StyleView",
            "description_width": ""
          }
        },
        "502da73225a74ad9a0736da56f06b574": {
          "model_module": "@jupyter-widgets/base",
          "model_module_version": "1.2.0",
          "model_name": "LayoutModel",
          "state": {
            "_model_module": "@jupyter-widgets/base",
            "_model_module_version": "1.2.0",
            "_model_name": "LayoutModel",
            "_view_count": null,
            "_view_module": "@jupyter-widgets/base",
            "_view_module_version": "1.2.0",
            "_view_name": "LayoutView",
            "align_content": null,
            "align_items": null,
            "align_self": null,
            "border": null,
            "bottom": null,
            "display": null,
            "flex": null,
            "flex_flow": null,
            "grid_area": null,
            "grid_auto_columns": null,
            "grid_auto_flow": null,
            "grid_auto_rows": null,
            "grid_column": null,
            "grid_gap": null,
            "grid_row": null,
            "grid_template_areas": null,
            "grid_template_columns": null,
            "grid_template_rows": null,
            "height": null,
            "justify_content": null,
            "justify_items": null,
            "left": null,
            "margin": null,
            "max_height": null,
            "max_width": null,
            "min_height": null,
            "min_width": null,
            "object_fit": null,
            "object_position": null,
            "order": null,
            "overflow": null,
            "overflow_x": null,
            "overflow_y": null,
            "padding": null,
            "right": null,
            "top": null,
            "visibility": null,
            "width": null
          }
        },
        "55def8c14f2b44d2bf9d52ef6f77555f": {
          "model_module": "@jupyter-widgets/base",
          "model_module_version": "1.2.0",
          "model_name": "LayoutModel",
          "state": {
            "_model_module": "@jupyter-widgets/base",
            "_model_module_version": "1.2.0",
            "_model_name": "LayoutModel",
            "_view_count": null,
            "_view_module": "@jupyter-widgets/base",
            "_view_module_version": "1.2.0",
            "_view_name": "LayoutView",
            "align_content": null,
            "align_items": null,
            "align_self": null,
            "border": null,
            "bottom": null,
            "display": null,
            "flex": null,
            "flex_flow": null,
            "grid_area": null,
            "grid_auto_columns": null,
            "grid_auto_flow": null,
            "grid_auto_rows": null,
            "grid_column": null,
            "grid_gap": null,
            "grid_row": null,
            "grid_template_areas": null,
            "grid_template_columns": null,
            "grid_template_rows": null,
            "height": null,
            "justify_content": null,
            "justify_items": null,
            "left": null,
            "margin": null,
            "max_height": null,
            "max_width": null,
            "min_height": null,
            "min_width": null,
            "object_fit": null,
            "object_position": null,
            "order": null,
            "overflow": null,
            "overflow_x": null,
            "overflow_y": null,
            "padding": null,
            "right": null,
            "top": null,
            "visibility": null,
            "width": null
          }
        },
        "57667b5b6c5d4b26adb04681c4bca827": {
          "model_module": "@jupyter-widgets/base",
          "model_module_version": "1.2.0",
          "model_name": "LayoutModel",
          "state": {
            "_model_module": "@jupyter-widgets/base",
            "_model_module_version": "1.2.0",
            "_model_name": "LayoutModel",
            "_view_count": null,
            "_view_module": "@jupyter-widgets/base",
            "_view_module_version": "1.2.0",
            "_view_name": "LayoutView",
            "align_content": null,
            "align_items": null,
            "align_self": null,
            "border": null,
            "bottom": null,
            "display": null,
            "flex": null,
            "flex_flow": null,
            "grid_area": null,
            "grid_auto_columns": null,
            "grid_auto_flow": null,
            "grid_auto_rows": null,
            "grid_column": null,
            "grid_gap": null,
            "grid_row": null,
            "grid_template_areas": null,
            "grid_template_columns": null,
            "grid_template_rows": null,
            "height": null,
            "justify_content": null,
            "justify_items": null,
            "left": null,
            "margin": null,
            "max_height": null,
            "max_width": null,
            "min_height": null,
            "min_width": null,
            "object_fit": null,
            "object_position": null,
            "order": null,
            "overflow": null,
            "overflow_x": null,
            "overflow_y": null,
            "padding": null,
            "right": null,
            "top": null,
            "visibility": null,
            "width": null
          }
        },
        "59259133eaa849948a37c1d3fc323bf8": {
          "model_module": "@jupyter-widgets/base",
          "model_module_version": "1.2.0",
          "model_name": "LayoutModel",
          "state": {
            "_model_module": "@jupyter-widgets/base",
            "_model_module_version": "1.2.0",
            "_model_name": "LayoutModel",
            "_view_count": null,
            "_view_module": "@jupyter-widgets/base",
            "_view_module_version": "1.2.0",
            "_view_name": "LayoutView",
            "align_content": null,
            "align_items": null,
            "align_self": null,
            "border": null,
            "bottom": null,
            "display": null,
            "flex": null,
            "flex_flow": null,
            "grid_area": null,
            "grid_auto_columns": null,
            "grid_auto_flow": null,
            "grid_auto_rows": null,
            "grid_column": null,
            "grid_gap": null,
            "grid_row": null,
            "grid_template_areas": null,
            "grid_template_columns": null,
            "grid_template_rows": null,
            "height": null,
            "justify_content": null,
            "justify_items": null,
            "left": null,
            "margin": null,
            "max_height": null,
            "max_width": null,
            "min_height": null,
            "min_width": null,
            "object_fit": null,
            "object_position": null,
            "order": null,
            "overflow": null,
            "overflow_x": null,
            "overflow_y": null,
            "padding": null,
            "right": null,
            "top": null,
            "visibility": null,
            "width": null
          }
        },
        "5dd2c4ce8a5b490096400fb8833e1aed": {
          "model_module": "@jupyter-widgets/controls",
          "model_module_version": "1.5.0",
          "model_name": "HTMLModel",
          "state": {
            "_dom_classes": [],
            "_model_module": "@jupyter-widgets/controls",
            "_model_module_version": "1.5.0",
            "_model_name": "HTMLModel",
            "_view_count": null,
            "_view_module": "@jupyter-widgets/controls",
            "_view_module_version": "1.5.0",
            "_view_name": "HTMLView",
            "description": "",
            "description_tooltip": null,
            "layout": "IPY_MODEL_57667b5b6c5d4b26adb04681c4bca827",
            "placeholder": "​",
            "style": "IPY_MODEL_8dc4ed48020a4194bcd414d4cd41f9f6",
            "value": "Resolving data files: 100%"
          }
        },
        "5e889ce0997c4c03b4e9b6052e83ef2e": {
          "model_module": "@jupyter-widgets/base",
          "model_module_version": "1.2.0",
          "model_name": "LayoutModel",
          "state": {
            "_model_module": "@jupyter-widgets/base",
            "_model_module_version": "1.2.0",
            "_model_name": "LayoutModel",
            "_view_count": null,
            "_view_module": "@jupyter-widgets/base",
            "_view_module_version": "1.2.0",
            "_view_name": "LayoutView",
            "align_content": null,
            "align_items": null,
            "align_self": null,
            "border": null,
            "bottom": null,
            "display": null,
            "flex": null,
            "flex_flow": null,
            "grid_area": null,
            "grid_auto_columns": null,
            "grid_auto_flow": null,
            "grid_auto_rows": null,
            "grid_column": null,
            "grid_gap": null,
            "grid_row": null,
            "grid_template_areas": null,
            "grid_template_columns": null,
            "grid_template_rows": null,
            "height": null,
            "justify_content": null,
            "justify_items": null,
            "left": null,
            "margin": null,
            "max_height": null,
            "max_width": null,
            "min_height": null,
            "min_width": null,
            "object_fit": null,
            "object_position": null,
            "order": null,
            "overflow": null,
            "overflow_x": null,
            "overflow_y": null,
            "padding": null,
            "right": null,
            "top": null,
            "visibility": null,
            "width": null
          }
        },
        "642c3c26161547229abd4e682a690191": {
          "model_module": "@jupyter-widgets/base",
          "model_module_version": "1.2.0",
          "model_name": "LayoutModel",
          "state": {
            "_model_module": "@jupyter-widgets/base",
            "_model_module_version": "1.2.0",
            "_model_name": "LayoutModel",
            "_view_count": null,
            "_view_module": "@jupyter-widgets/base",
            "_view_module_version": "1.2.0",
            "_view_name": "LayoutView",
            "align_content": null,
            "align_items": null,
            "align_self": null,
            "border": null,
            "bottom": null,
            "display": null,
            "flex": null,
            "flex_flow": null,
            "grid_area": null,
            "grid_auto_columns": null,
            "grid_auto_flow": null,
            "grid_auto_rows": null,
            "grid_column": null,
            "grid_gap": null,
            "grid_row": null,
            "grid_template_areas": null,
            "grid_template_columns": null,
            "grid_template_rows": null,
            "height": null,
            "justify_content": null,
            "justify_items": null,
            "left": null,
            "margin": null,
            "max_height": null,
            "max_width": null,
            "min_height": null,
            "min_width": null,
            "object_fit": null,
            "object_position": null,
            "order": null,
            "overflow": null,
            "overflow_x": null,
            "overflow_y": null,
            "padding": null,
            "right": null,
            "top": null,
            "visibility": null,
            "width": null
          }
        },
        "77fc0d5fd23c4fe3b128fdb2cbb383cc": {
          "model_module": "@jupyter-widgets/controls",
          "model_module_version": "1.5.0",
          "model_name": "HBoxModel",
          "state": {
            "_dom_classes": [],
            "_model_module": "@jupyter-widgets/controls",
            "_model_module_version": "1.5.0",
            "_model_name": "HBoxModel",
            "_view_count": null,
            "_view_module": "@jupyter-widgets/controls",
            "_view_module_version": "1.5.0",
            "_view_name": "HBoxView",
            "box_style": "",
            "children": [
              "IPY_MODEL_1ad844b3f8654732a3bb444e1d3c069b",
              "IPY_MODEL_b997b3f655534abab1268df49051f129",
              "IPY_MODEL_109993f7fe6a469da33ed83d3ebe92ca"
            ],
            "layout": "IPY_MODEL_55def8c14f2b44d2bf9d52ef6f77555f"
          }
        },
        "7b66e3d669614d409f64b3f4872b2939": {
          "model_module": "@jupyter-widgets/controls",
          "model_module_version": "1.5.0",
          "model_name": "DescriptionStyleModel",
          "state": {
            "_model_module": "@jupyter-widgets/controls",
            "_model_module_version": "1.5.0",
            "_model_name": "DescriptionStyleModel",
            "_view_count": null,
            "_view_module": "@jupyter-widgets/base",
            "_view_module_version": "1.2.0",
            "_view_name": "StyleView",
            "description_width": ""
          }
        },
        "7cff1474cba14536a570a5a49970930d": {
          "model_module": "@jupyter-widgets/controls",
          "model_module_version": "1.5.0",
          "model_name": "HTMLModel",
          "state": {
            "_dom_classes": [],
            "_model_module": "@jupyter-widgets/controls",
            "_model_module_version": "1.5.0",
            "_model_name": "HTMLModel",
            "_view_count": null,
            "_view_module": "@jupyter-widgets/controls",
            "_view_module_version": "1.5.0",
            "_view_name": "HTMLView",
            "description": "",
            "description_tooltip": null,
            "layout": "IPY_MODEL_02f24cd0382b4c7b9ede36cd2698e0d6",
            "placeholder": "​",
            "style": "IPY_MODEL_16b82d538e614f12a05a7f20a67e6860",
            "value": " 531/0 [00:00&lt;00:00, 1594.00 examples/s]"
          }
        },
        "89e2da2e11f845ce8ca2265366804f67": {
          "model_module": "@jupyter-widgets/base",
          "model_module_version": "1.2.0",
          "model_name": "LayoutModel",
          "state": {
            "_model_module": "@jupyter-widgets/base",
            "_model_module_version": "1.2.0",
            "_model_name": "LayoutModel",
            "_view_count": null,
            "_view_module": "@jupyter-widgets/base",
            "_view_module_version": "1.2.0",
            "_view_name": "LayoutView",
            "align_content": null,
            "align_items": null,
            "align_self": null,
            "border": null,
            "bottom": null,
            "display": null,
            "flex": null,
            "flex_flow": null,
            "grid_area": null,
            "grid_auto_columns": null,
            "grid_auto_flow": null,
            "grid_auto_rows": null,
            "grid_column": null,
            "grid_gap": null,
            "grid_row": null,
            "grid_template_areas": null,
            "grid_template_columns": null,
            "grid_template_rows": null,
            "height": null,
            "justify_content": null,
            "justify_items": null,
            "left": null,
            "margin": null,
            "max_height": null,
            "max_width": null,
            "min_height": null,
            "min_width": null,
            "object_fit": null,
            "object_position": null,
            "order": null,
            "overflow": null,
            "overflow_x": null,
            "overflow_y": null,
            "padding": null,
            "right": null,
            "top": null,
            "visibility": null,
            "width": null
          }
        },
        "8dc4ed48020a4194bcd414d4cd41f9f6": {
          "model_module": "@jupyter-widgets/controls",
          "model_module_version": "1.5.0",
          "model_name": "DescriptionStyleModel",
          "state": {
            "_model_module": "@jupyter-widgets/controls",
            "_model_module_version": "1.5.0",
            "_model_name": "DescriptionStyleModel",
            "_view_count": null,
            "_view_module": "@jupyter-widgets/base",
            "_view_module_version": "1.2.0",
            "_view_name": "StyleView",
            "description_width": ""
          }
        },
        "96f9d82d22884e059eb505eaaf229da5": {
          "model_module": "@jupyter-widgets/controls",
          "model_module_version": "1.5.0",
          "model_name": "HTMLModel",
          "state": {
            "_dom_classes": [],
            "_model_module": "@jupyter-widgets/controls",
            "_model_module_version": "1.5.0",
            "_model_name": "HTMLModel",
            "_view_count": null,
            "_view_module": "@jupyter-widgets/controls",
            "_view_module_version": "1.5.0",
            "_view_name": "HTMLView",
            "description": "",
            "description_tooltip": null,
            "layout": "IPY_MODEL_26bc2066c787445492bbe6aaa14fd493",
            "placeholder": "​",
            "style": "IPY_MODEL_4ce9d34838164c559990bd7cba4f289f",
            "value": " 531/531 [00:00&lt;00:00, 2885.03it/s]"
          }
        },
        "97de24fe4d414a498c809bd61ae97154": {
          "model_module": "@jupyter-widgets/controls",
          "model_module_version": "1.5.0",
          "model_name": "FloatProgressModel",
          "state": {
            "_dom_classes": [],
            "_model_module": "@jupyter-widgets/controls",
            "_model_module_version": "1.5.0",
            "_model_name": "FloatProgressModel",
            "_view_count": null,
            "_view_module": "@jupyter-widgets/controls",
            "_view_module_version": "1.5.0",
            "_view_name": "ProgressView",
            "bar_style": "success",
            "description": "",
            "description_tooltip": null,
            "layout": "IPY_MODEL_b83f8b2dbaea4ffbb45418c721c55ecf",
            "max": 1,
            "min": 0,
            "orientation": "horizontal",
            "style": "IPY_MODEL_cc1c68fe21084005a7b6b8246936ba89",
            "value": 1
          }
        },
        "98865d5efcf744b9b19295a7eee2a87a": {
          "model_module": "@jupyter-widgets/controls",
          "model_module_version": "1.5.0",
          "model_name": "HTMLModel",
          "state": {
            "_dom_classes": [],
            "_model_module": "@jupyter-widgets/controls",
            "_model_module_version": "1.5.0",
            "_model_name": "HTMLModel",
            "_view_count": null,
            "_view_module": "@jupyter-widgets/controls",
            "_view_module_version": "1.5.0",
            "_view_name": "HTMLView",
            "description": "",
            "description_tooltip": null,
            "layout": "IPY_MODEL_5e889ce0997c4c03b4e9b6052e83ef2e",
            "placeholder": "​",
            "style": "IPY_MODEL_7b66e3d669614d409f64b3f4872b2939",
            "value": "Generating train split: "
          }
        },
        "9a7b7808d5d1435bb3b29d6398602e54": {
          "model_module": "@jupyter-widgets/controls",
          "model_module_version": "1.5.0",
          "model_name": "DescriptionStyleModel",
          "state": {
            "_model_module": "@jupyter-widgets/controls",
            "_model_module_version": "1.5.0",
            "_model_name": "DescriptionStyleModel",
            "_view_count": null,
            "_view_module": "@jupyter-widgets/base",
            "_view_module_version": "1.2.0",
            "_view_name": "StyleView",
            "description_width": ""
          }
        },
        "9ab311939bda4a4f993b916b327c6ea9": {
          "model_module": "@jupyter-widgets/base",
          "model_module_version": "1.2.0",
          "model_name": "LayoutModel",
          "state": {
            "_model_module": "@jupyter-widgets/base",
            "_model_module_version": "1.2.0",
            "_model_name": "LayoutModel",
            "_view_count": null,
            "_view_module": "@jupyter-widgets/base",
            "_view_module_version": "1.2.0",
            "_view_name": "LayoutView",
            "align_content": null,
            "align_items": null,
            "align_self": null,
            "border": null,
            "bottom": null,
            "display": null,
            "flex": null,
            "flex_flow": null,
            "grid_area": null,
            "grid_auto_columns": null,
            "grid_auto_flow": null,
            "grid_auto_rows": null,
            "grid_column": null,
            "grid_gap": null,
            "grid_row": null,
            "grid_template_areas": null,
            "grid_template_columns": null,
            "grid_template_rows": null,
            "height": null,
            "justify_content": null,
            "justify_items": null,
            "left": null,
            "margin": null,
            "max_height": null,
            "max_width": null,
            "min_height": null,
            "min_width": null,
            "object_fit": null,
            "object_position": null,
            "order": null,
            "overflow": null,
            "overflow_x": null,
            "overflow_y": null,
            "padding": null,
            "right": null,
            "top": null,
            "visibility": null,
            "width": null
          }
        },
        "b83f8b2dbaea4ffbb45418c721c55ecf": {
          "model_module": "@jupyter-widgets/base",
          "model_module_version": "1.2.0",
          "model_name": "LayoutModel",
          "state": {
            "_model_module": "@jupyter-widgets/base",
            "_model_module_version": "1.2.0",
            "_model_name": "LayoutModel",
            "_view_count": null,
            "_view_module": "@jupyter-widgets/base",
            "_view_module_version": "1.2.0",
            "_view_name": "LayoutView",
            "align_content": null,
            "align_items": null,
            "align_self": null,
            "border": null,
            "bottom": null,
            "display": null,
            "flex": null,
            "flex_flow": null,
            "grid_area": null,
            "grid_auto_columns": null,
            "grid_auto_flow": null,
            "grid_auto_rows": null,
            "grid_column": null,
            "grid_gap": null,
            "grid_row": null,
            "grid_template_areas": null,
            "grid_template_columns": null,
            "grid_template_rows": null,
            "height": null,
            "justify_content": null,
            "justify_items": null,
            "left": null,
            "margin": null,
            "max_height": null,
            "max_width": null,
            "min_height": null,
            "min_width": null,
            "object_fit": null,
            "object_position": null,
            "order": null,
            "overflow": null,
            "overflow_x": null,
            "overflow_y": null,
            "padding": null,
            "right": null,
            "top": null,
            "visibility": null,
            "width": "20px"
          }
        },
        "b997b3f655534abab1268df49051f129": {
          "model_module": "@jupyter-widgets/controls",
          "model_module_version": "1.5.0",
          "model_name": "FloatProgressModel",
          "state": {
            "_dom_classes": [],
            "_model_module": "@jupyter-widgets/controls",
            "_model_module_version": "1.5.0",
            "_model_name": "FloatProgressModel",
            "_view_count": null,
            "_view_module": "@jupyter-widgets/controls",
            "_view_module_version": "1.5.0",
            "_view_name": "ProgressView",
            "bar_style": "success",
            "description": "",
            "description_tooltip": null,
            "layout": "IPY_MODEL_642c3c26161547229abd4e682a690191",
            "max": 531,
            "min": 0,
            "orientation": "horizontal",
            "style": "IPY_MODEL_1cda498d8a9e48b8b82ccb985e5c5fc7",
            "value": 531
          }
        },
        "cc1c68fe21084005a7b6b8246936ba89": {
          "model_module": "@jupyter-widgets/controls",
          "model_module_version": "1.5.0",
          "model_name": "ProgressStyleModel",
          "state": {
            "_model_module": "@jupyter-widgets/controls",
            "_model_module_version": "1.5.0",
            "_model_name": "ProgressStyleModel",
            "_view_count": null,
            "_view_module": "@jupyter-widgets/base",
            "_view_module_version": "1.2.0",
            "_view_name": "StyleView",
            "bar_color": null,
            "description_width": ""
          }
        },
        "d4cfe1d1547147db858a621ec0a7f85d": {
          "model_module": "@jupyter-widgets/controls",
          "model_module_version": "1.5.0",
          "model_name": "ProgressStyleModel",
          "state": {
            "_model_module": "@jupyter-widgets/controls",
            "_model_module_version": "1.5.0",
            "_model_name": "ProgressStyleModel",
            "_view_count": null,
            "_view_module": "@jupyter-widgets/base",
            "_view_module_version": "1.2.0",
            "_view_name": "StyleView",
            "bar_color": null,
            "description_width": ""
          }
        },
        "dee71d5e90164ed18ef003825c3aec04": {
          "model_module": "@jupyter-widgets/base",
          "model_module_version": "1.2.0",
          "model_name": "LayoutModel",
          "state": {
            "_model_module": "@jupyter-widgets/base",
            "_model_module_version": "1.2.0",
            "_model_name": "LayoutModel",
            "_view_count": null,
            "_view_module": "@jupyter-widgets/base",
            "_view_module_version": "1.2.0",
            "_view_name": "LayoutView",
            "align_content": null,
            "align_items": null,
            "align_self": null,
            "border": null,
            "bottom": null,
            "display": null,
            "flex": null,
            "flex_flow": null,
            "grid_area": null,
            "grid_auto_columns": null,
            "grid_auto_flow": null,
            "grid_auto_rows": null,
            "grid_column": null,
            "grid_gap": null,
            "grid_row": null,
            "grid_template_areas": null,
            "grid_template_columns": null,
            "grid_template_rows": null,
            "height": null,
            "justify_content": null,
            "justify_items": null,
            "left": null,
            "margin": null,
            "max_height": null,
            "max_width": null,
            "min_height": null,
            "min_width": null,
            "object_fit": null,
            "object_position": null,
            "order": null,
            "overflow": null,
            "overflow_x": null,
            "overflow_y": null,
            "padding": null,
            "right": null,
            "top": null,
            "visibility": null,
            "width": null
          }
        },
        "f41401369996406a8ac5447a5ec3fda1": {
          "model_module": "@jupyter-widgets/controls",
          "model_module_version": "1.5.0",
          "model_name": "HBoxModel",
          "state": {
            "_dom_classes": [],
            "_model_module": "@jupyter-widgets/controls",
            "_model_module_version": "1.5.0",
            "_model_name": "HBoxModel",
            "_view_count": null,
            "_view_module": "@jupyter-widgets/controls",
            "_view_module_version": "1.5.0",
            "_view_name": "HBoxView",
            "box_style": "",
            "children": [
              "IPY_MODEL_5dd2c4ce8a5b490096400fb8833e1aed",
              "IPY_MODEL_2ce8db7c93c84ecca0b64292539dd2a7",
              "IPY_MODEL_96f9d82d22884e059eb505eaaf229da5"
            ],
            "layout": "IPY_MODEL_89e2da2e11f845ce8ca2265366804f67"
          }
        }
      }
    }
  },
  "nbformat": 4,
  "nbformat_minor": 0
}
